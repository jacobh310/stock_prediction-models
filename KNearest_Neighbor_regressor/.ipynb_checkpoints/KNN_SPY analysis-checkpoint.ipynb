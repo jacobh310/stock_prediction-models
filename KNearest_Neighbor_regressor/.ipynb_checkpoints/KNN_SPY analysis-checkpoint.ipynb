{
 "cells": [
  {
   "cell_type": "markdown",
   "metadata": {},
   "source": [
    "# Stock Price Prediction on the SPY exchange traded fund\n",
    "***\n",
    "## Overview\n",
    "### 1) Introduction\n",
    "\n",
    "### 2) Feature Engineering\n",
    "\n",
    "### 3) Prelimanry Evalutaion\n",
    "\n",
    "### 4) Feature Selection and Hyperparamter tuning\n",
    "\n",
    "### 5) In Depth Evaluation\n",
    "*****\n",
    "\n",
    "## Introduction\n",
    "\n",
    "Stock market predictions using Machine Learning is daunting task due to the random behavior of the market.There are many notebooks and GitHub repos that attempt to predict prices for the next day, week, month, etc. Yibn Ng had a great article on the [Towards Data Science](https://towardsdatascience.com/machine-learning-techniques-applied-to-stock-price-prediction-6c1994da8001) website where he uses three machine learing algoithims to predict a stocks next day's closing price and compares\n",
    "their RMSE to the RMSE of the last value method. In the last value value your prediction of the next day is the the value of the most recent day. So my predicted price for tomorrow is today's clsing price. Yibn Ng determined that using the last value method had the lowest RMSE out of Linear Regression, XGBosst, and LSTM as seen in the table below\n",
    "\n",
    "![](https://miro.medium.com/max/448/1*-cMeTeIF3FmLxuX5oSzWEw.png)\n",
    "\n",
    "I am going to take a different apprach. Instead of predicting a price, I am going to be predicting the direction of the SPY. The SPY s an exchange traded fund (etf) that tracks the S&P 500 index. The S&P 500 measures the perforamce of the 500 of the largest companies and is a solid evaluator for the health whole stock market. I will be using this along with the E-MINI one month futures contracts and VIX volatlity index to predict the price direction of the SPY etf. The importance of the VIX volatility index and the E-MINI futures will be explained later in the jupyter notebook.\n",
    "\n",
    "Stock market prices tend to move up over time but day to day price action is more random. In this notebook, I'm only going to be using the KNearest neighbor regressor alogorithim. Implementing one algorithim is enough for this notebook given the 100 plus features to optimze through. To simplify my model, it will only predict percent change. A postive percent change will be assigned a buy signal and a negative percent change will be assigned a pass signal(1 signals buy and 0 signals pass).  Having said that, I am going to judge the performance of the model on its precision and its ability to generate profit. Precision being percentage of times the stock went up given the model predicted the price going up. Since I am modeling around buy signals I'm more focused on limiting false postives. The recall rate does not need to be high but also not so low were I am not generating any buy signals. The auc score of the precsion recall curve will also evaluate the perfomrance of the model and its features.\n",
    "\n",
    "On top, I will also evaluate my model using real world evaluation process. I am going to similuate entering a long position every time the model gives a 1 (buy singal) and see how much profit or loss the model generates with an initial $10000 investment. I have a predetermined risk management strategy which I will go more in depth later on in the notebook. \n",
    "\n",
    "Finally I am going to test the model on all the eligible stocks from the S&P 500 and compare how the models precision and profitablility changes as function of a stocks volatility. I am going to be using Beta as the measure for the stock's volatility\n"
   ]
  },
  {
   "cell_type": "code",
   "execution_count": 1,
   "metadata": {},
   "outputs": [],
   "source": [
    "import warnings\n",
    "warnings.filterwarnings('ignore')"
   ]
  },
  {
   "cell_type": "markdown",
   "metadata": {},
   "source": [
    "The CSV files from this notebook were downloaded from yahoo finance\n",
    "- SPY: SPY\n",
    "- Futures: ES=F\n",
    "- Vix = ^VIX"
   ]
  },
  {
   "cell_type": "code",
   "execution_count": 2,
   "metadata": {},
   "outputs": [],
   "source": [
    "import pandas as pd\n",
    "import numpy as np\n",
    "import matplotlib.pyplot as plt\n",
    "\n",
    "spy= pd.read_csv('spy.csv', index_col=0, parse_dates=True)\n",
    "spy.index.name= 'Date'\n",
    "spy= spy.drop(columns='Adj Close')\n"
   ]
  },
  {
   "cell_type": "markdown",
   "metadata": {},
   "source": [
    "# Feature Engineering "
   ]
  },
  {
   "cell_type": "markdown",
   "metadata": {},
   "source": [
    "### VIX\n",
    "\n",
    "The the VIX is a Volatility Index that measures prices for the call and put SPX options. SPX is another S&P 500 index.\n",
    "To put it simply, the VIX measure 30 day expected volatility and usually is inversely proprtional to the SPY etf.   \n",
    "https://www.investopedia.com/terms/v/vix.asp\n",
    "\n",
    "### Futures\n",
    "Futures are contracts between a buyers and sellers where the buyer must buy the underying asset at an agreed upon future date. I am using the E-Mini whose underlying asset is the S&P 500 index. Basically, people trade these contracts based on what they think the value of the S&P will be in the future.\n",
    "https://www.investopedia.com/ask/answers/042315/how-do-sp-500-futures-work.asp\n",
    "\n",
    "I'm hoping the KNN algorithim can pick on any correlation betweens futures/vix and the SPY"
   ]
  },
  {
   "cell_type": "code",
   "execution_count": 3,
   "metadata": {},
   "outputs": [],
   "source": [
    "vix =  pd.read_csv('vix.csv', index_col=0, parse_dates=True)\n",
    "vix.index.name= 'Date'\n",
    "vix= vix.drop(columns=['Adj Close','Low','High','Open'])\n",
    "vix= vix.drop(columns='Volume')\n",
    "vix['20MA'] = vix['Close'].rolling(window=20).mean()\n",
    "vix['Close/20MA'] = vix['Close']/vix['20MA']\n",
    "vix.columns = ['Vix_'+i for i in vix.columns]\n",
    "\n",
    "futures= pd.read_csv('e_mini.csv', index_col=0, parse_dates=True)\n",
    "futures.index.name= 'Date'\n",
    "futures = futures.dropna()\n",
    "futures= futures.drop(columns=['Adj Close','Low','High','Open','Volume'])\n",
    "futures['20MA'] = futures['Close'].rolling(window=20).mean()\n",
    "futures['Close/20MA'] = futures['Close']/futures['20MA']\n",
    "futures.columns = ['Futures_'+i for i in futures.columns]"
   ]
  },
  {
   "cell_type": "code",
   "execution_count": 4,
   "metadata": {},
   "outputs": [
    {
     "data": {
      "text/html": [
       "<div>\n",
       "<style scoped>\n",
       "    .dataframe tbody tr th:only-of-type {\n",
       "        vertical-align: middle;\n",
       "    }\n",
       "\n",
       "    .dataframe tbody tr th {\n",
       "        vertical-align: top;\n",
       "    }\n",
       "\n",
       "    .dataframe thead th {\n",
       "        text-align: right;\n",
       "    }\n",
       "</style>\n",
       "<table border=\"1\" class=\"dataframe\">\n",
       "  <thead>\n",
       "    <tr style=\"text-align: right;\">\n",
       "      <th></th>\n",
       "      <th>Futures_Close</th>\n",
       "      <th>Futures_20MA</th>\n",
       "      <th>Futures_Close/20MA</th>\n",
       "      <th>Vix_Close</th>\n",
       "      <th>Vix_20MA</th>\n",
       "      <th>Vix_Close/20MA</th>\n",
       "      <th>Open</th>\n",
       "      <th>High</th>\n",
       "      <th>Low</th>\n",
       "      <th>Close</th>\n",
       "      <th>Volume</th>\n",
       "    </tr>\n",
       "    <tr>\n",
       "      <th>Date</th>\n",
       "      <th></th>\n",
       "      <th></th>\n",
       "      <th></th>\n",
       "      <th></th>\n",
       "      <th></th>\n",
       "      <th></th>\n",
       "      <th></th>\n",
       "      <th></th>\n",
       "      <th></th>\n",
       "      <th></th>\n",
       "      <th></th>\n",
       "    </tr>\n",
       "  </thead>\n",
       "  <tbody>\n",
       "    <tr>\n",
       "      <th>2021-02-18</th>\n",
       "      <td>3909.5</td>\n",
       "      <td>3853.8500</td>\n",
       "      <td>1.014440</td>\n",
       "      <td>22.490000</td>\n",
       "      <td>24.1415</td>\n",
       "      <td>0.931591</td>\n",
       "      <td>389.589996</td>\n",
       "      <td>391.519989</td>\n",
       "      <td>387.739990</td>\n",
       "      <td>390.720001</td>\n",
       "      <td>59552200</td>\n",
       "    </tr>\n",
       "    <tr>\n",
       "      <th>2021-02-19</th>\n",
       "      <td>3903.0</td>\n",
       "      <td>3856.7000</td>\n",
       "      <td>1.012005</td>\n",
       "      <td>22.049999</td>\n",
       "      <td>24.1780</td>\n",
       "      <td>0.911986</td>\n",
       "      <td>392.070007</td>\n",
       "      <td>392.380005</td>\n",
       "      <td>389.549988</td>\n",
       "      <td>390.029999</td>\n",
       "      <td>83142800</td>\n",
       "    </tr>\n",
       "    <tr>\n",
       "      <th>2021-02-22</th>\n",
       "      <td>3873.5</td>\n",
       "      <td>3858.6625</td>\n",
       "      <td>1.003845</td>\n",
       "      <td>23.450001</td>\n",
       "      <td>24.2550</td>\n",
       "      <td>0.966811</td>\n",
       "      <td>387.059998</td>\n",
       "      <td>389.619995</td>\n",
       "      <td>386.739990</td>\n",
       "      <td>387.029999</td>\n",
       "      <td>67160000</td>\n",
       "    </tr>\n",
       "    <tr>\n",
       "      <th>2021-02-23</th>\n",
       "      <td>3878.0</td>\n",
       "      <td>3860.1375</td>\n",
       "      <td>1.004627</td>\n",
       "      <td>23.110001</td>\n",
       "      <td>24.2510</td>\n",
       "      <td>0.952950</td>\n",
       "      <td>384.660004</td>\n",
       "      <td>388.950012</td>\n",
       "      <td>380.200012</td>\n",
       "      <td>387.500000</td>\n",
       "      <td>106997200</td>\n",
       "    </tr>\n",
       "    <tr>\n",
       "      <th>2021-02-24</th>\n",
       "      <td>3922.5</td>\n",
       "      <td>3864.1375</td>\n",
       "      <td>1.015104</td>\n",
       "      <td>21.340000</td>\n",
       "      <td>24.1670</td>\n",
       "      <td>0.883022</td>\n",
       "      <td>386.329987</td>\n",
       "      <td>392.230011</td>\n",
       "      <td>385.269989</td>\n",
       "      <td>391.769989</td>\n",
       "      <td>72226600</td>\n",
       "    </tr>\n",
       "  </tbody>\n",
       "</table>\n",
       "</div>"
      ],
      "text/plain": [
       "            Futures_Close  Futures_20MA  Futures_Close/20MA  Vix_Close  \\\n",
       "Date                                                                     \n",
       "2021-02-18         3909.5     3853.8500            1.014440  22.490000   \n",
       "2021-02-19         3903.0     3856.7000            1.012005  22.049999   \n",
       "2021-02-22         3873.5     3858.6625            1.003845  23.450001   \n",
       "2021-02-23         3878.0     3860.1375            1.004627  23.110001   \n",
       "2021-02-24         3922.5     3864.1375            1.015104  21.340000   \n",
       "\n",
       "            Vix_20MA  Vix_Close/20MA        Open        High         Low  \\\n",
       "Date                                                                       \n",
       "2021-02-18   24.1415        0.931591  389.589996  391.519989  387.739990   \n",
       "2021-02-19   24.1780        0.911986  392.070007  392.380005  389.549988   \n",
       "2021-02-22   24.2550        0.966811  387.059998  389.619995  386.739990   \n",
       "2021-02-23   24.2510        0.952950  384.660004  388.950012  380.200012   \n",
       "2021-02-24   24.1670        0.883022  386.329987  392.230011  385.269989   \n",
       "\n",
       "                 Close     Volume  \n",
       "Date                               \n",
       "2021-02-18  390.720001   59552200  \n",
       "2021-02-19  390.029999   83142800  \n",
       "2021-02-22  387.029999   67160000  \n",
       "2021-02-23  387.500000  106997200  \n",
       "2021-02-24  391.769989   72226600  "
      ]
     },
     "execution_count": 4,
     "metadata": {},
     "output_type": "execute_result"
    }
   ],
   "source": [
    "df = pd.concat([futures,vix, spy], axis = 1, join='inner')\n",
    "df = df.dropna()\n",
    "df.tail()"
   ]
  },
  {
   "cell_type": "markdown",
   "metadata": {},
   "source": [
    "I am adding basic moving avergages and standard devations as features. I will be taking the moving averages the past 10, 50, 150 closing prices which reperesent the short, medium, long term averages respectively. I'll also be taking the 2nd standard deviation of the last 10 and 50 closing prices which represent the short and medium term price 2nd standard deviations. "
   ]
  },
  {
   "cell_type": "code",
   "execution_count": 5,
   "metadata": {},
   "outputs": [],
   "source": [
    "def add_indicators(df):\n",
    "    df['pct_change'] = df['Close'].pct_change()\n",
    "    df['50_Volume'] = df['Volume'].rolling(window=30).mean()\n",
    "    df['10MA'] = df['Close'].rolling(window = 10).mean()\n",
    "    df['50MA'] = df['Close'].rolling(window = 50).mean()\n",
    "    df['150MA'] = df['Close'].rolling(window = 150).mean()\n",
    "    df['50STD'] = df['Close'].rolling(window = 50).std()*2\n",
    "    df['10STD'] = df['Close'].rolling(window = 10).std()*2\n",
    "\n",
    "    df = df.dropna(axis=0)\n",
    "    return df\n",
    "df = add_indicators(df)"
   ]
  },
  {
   "cell_type": "markdown",
   "metadata": {},
   "source": [
    "### RSI\n",
    "The RSI or relative strength index is an oscillating indicator from 0 to 100 that measures price strength in both directions. It's used in trading is to see what stocks are over sold and overbought. By convention an overbought reading is anything higher thatn 70 on the RSI and an oversold reading is anything below 30. It is common practice to expect a downward reversal when RSI shows overbought and an upward reversal when RSI shows oversold. The model will pick up on these patterns if they are true "
   ]
  },
  {
   "cell_type": "code",
   "execution_count": 6,
   "metadata": {},
   "outputs": [],
   "source": [
    "def build_rsi(df, period):\n",
    "    prices =  df.Close\n",
    "    #upward list will contain the the dollar amount a stock when up from the previous days close if it went up\n",
    "    upward = []\n",
    "    for i in range(len(prices)):\n",
    "        if i == 0:\n",
    "            upward.append(np.nan)\n",
    "        elif prices[i] > prices[i-1]:\n",
    "            upward.append(prices[i] - prices[i-1])\n",
    "        else:\n",
    "            upward.append(0)\n",
    "\n",
    "    # the downward list will contain the dollar amount a stock when down\n",
    "    downward = []\n",
    "    for i in range(len(prices)):\n",
    "        if i == 0:\n",
    "            downward.append(np.nan)\n",
    "        elif prices[i] < prices[i-1]:\n",
    "            downward.append(prices[i-1] - prices[i])\n",
    "        else:\n",
    "            downward.append(0)\n",
    "\n",
    "    # making a datafram to help oraginze the data\n",
    "    rsi = pd.DataFrame({'upward': upward, 'downward':downward}).dropna()\n",
    "\n",
    "    period = period   # how far back the we are going to go to calculation. Since I am using the daily stock price 14 symbolizes \n",
    "                    # the last 14 trading days\n",
    "\n",
    "    # the upwards avarage (upward_avg) is calcuation pay taking the avaerage of the last 14 upward values for the first value\n",
    "    # the subsequent values are calulated using this pseudo code **upward_avg[-1]*(period-1)+upward[i])/period**\n",
    "\n",
    "    upward_avg = []\n",
    "    upward = rsi['upward']\n",
    "    for i in range(len(upward)):\n",
    "        period_avg = upward[i-period:i].mean()\n",
    "        if i < period:\n",
    "            upward_avg.append(np.nan)\n",
    "        elif i == period:\n",
    "            upward_avg.append(period_avg)\n",
    "        else:\n",
    "            upward_avg.append((upward_avg[-1]*(period-1)+upward[i])/period)\n",
    "\n",
    "    # downward average (downward_avg) is calculated the same way as upward except I used the downward column\n",
    "    downward_avg = []\n",
    "    downward = rsi['downward']\n",
    "    for i in range(len(downward)):\n",
    "        period_avg = downward[i-period:i].mean()\n",
    "        if i < period:\n",
    "            downward_avg.append(np.nan)\n",
    "        elif i == period:\n",
    "            downward_avg.append(period_avg)\n",
    "        else:\n",
    "            downward_avg.append((downward_avg[-1]*(period-1)+downward[i])/period)\n",
    "\n",
    "    rsi['upward_avg'] = upward_avg\n",
    "    rsi['downward_avg'] = downward_avg\n",
    "    rsi = rsi.dropna()\n",
    "\n",
    "    rsi['relative_strength'] = rsi.upward_avg/rsi.downward_avg\n",
    "    rsi['rsi'] = 100-(100/(rsi['relative_strength']+1))\n",
    "    df = df.iloc[period:]    # removing the rows that rsi needed to calculate \n",
    "    df = df.drop(df.index[-1])\n",
    "    df['rsi'] = rsi['rsi'].tolist()  \n",
    "    return df\n",
    "df = build_rsi(df,14)"
   ]
  },
  {
   "cell_type": "markdown",
   "metadata": {},
   "source": [
    "### Adding ratios and differences of moving averages and STDs\n",
    "-  Ratios of moving averages indicate trends. The 10-day moving average (10MA)/ 50-day moving average (50MA) > 1 tells us that that the stock is in a short term uptrend. The. 10MA/50MA < 1 indicates a short term down trend. If 10MA/50MA >1 and 50MA/150MA > 1 indicates a strong upward trend.\n",
    "- I also added the differences between the sequentual moving averages to see if the model performance improves. If the 10MA - 50 MA > 0 the then it is in an uptrend\n",
    "- The goal here is to have the model pick up on price patterns when the price is trending up vs trending down vs not trending "
   ]
  },
  {
   "cell_type": "code",
   "execution_count": 7,
   "metadata": {},
   "outputs": [],
   "source": [
    "def ratios_differences(df):\n",
    "    df['Close/10MA'] = df['Close']/df['10MA']\n",
    "    df['10/50MA'] = df['10MA']/df['50MA']\n",
    "    df['50/150MA'] = df['50MA']/df['150MA']\n",
    "    df['10/50STD'] = df['10STD']/ df['50STD']\n",
    "    df['Vol/30Vol'] = df['Volume']/df['50_Volume']\n",
    "    \n",
    "    df['Close-10MA'] = df['Close']-df['10MA']\n",
    "    df['10-50MA'] = df['10MA']-df['50MA']\n",
    "    df['50-150MA'] = df['50MA']-df['150MA']\n",
    "    df['10-50STD'] = df['10STD']-df['50STD']\n",
    "    \n",
    "\n",
    "    \n",
    "    df['range_hl'] = df['High']- df['Low']\n",
    "    df['range_oc'] = df['Close'] - df['Open']\n",
    "    return df\n",
    "df = ratios_differences(df)"
   ]
  },
  {
   "cell_type": "markdown",
   "metadata": {},
   "source": [
    "I wanted to add a binary classifcation for the relationship between moving averages to see how they perform versus the ratios and differences features coded above. For example if Close_10MA =1, 10_50MA = 1 , and 50_150MA =1 then price is in an uptrend. The degree of the uptrend is not known, just that price is in an uptrend.\n",
    "***\n",
    "The ratio, differences, and binary classifcations are correlated since they are derived from the same data. It is important to not select to many of the same features like Close_10MA, Close-10MA and Close/10MA. All three variations were added as features to see if one variation performs better."
   ]
  },
  {
   "cell_type": "code",
   "execution_count": 8,
   "metadata": {},
   "outputs": [],
   "source": [
    "df['Close_10MA'] = df['Close-10MA'].apply(lambda x: 1 if x>0 else 0 )\n",
    "df['10_50MA'] = df['10-50MA'].apply(lambda x: 1 if x>0 else 0 )\n",
    "df['50_150MA'] = df['50-150MA'].apply(lambda x: 1 if x>0 else 0 )\n",
    "df['10_50STD'] = df['10-50STD'].apply(lambda x: 1 if x>0 else 0 )\n"
   ]
  },
  {
   "cell_type": "markdown",
   "metadata": {},
   "source": [
    "### Making the Target Varaible "
   ]
  },
  {
   "cell_type": "markdown",
   "metadata": {},
   "source": [
    "The target variable is not going to be price but rather percent change from the current closing price to the next closing price. The percente change will then be transormed into a 1 if the percent change is postive or 0 is the percent change is negative. Target close is added for visual graphing and visual purposes later in the notebook."
   ]
  },
  {
   "cell_type": "code",
   "execution_count": 9,
   "metadata": {},
   "outputs": [],
   "source": [
    "n = 1  # days in future we are predicting\n",
    "def target(df,n):\n",
    "    df = df.reset_index()\n",
    "    df['Daily_pct_change'] = df['Close'].pct_change()\n",
    "    df['Target_Close'] = df['Close'].shift(-n)\n",
    "    df['Target_pct_change'] = df['Close'].pct_change(n).shift(-n)\n",
    "    df['Target'] =  df['Target_pct_change'].apply(lambda x: 1 if x>0 else 0)\n",
    "    df = df.dropna()\n",
    "    return df \n",
    "df= target(df,n)"
   ]
  },
  {
   "cell_type": "markdown",
   "metadata": {},
   "source": [
    "We are going to start by only looking 3 days in the past for the price and generated feature columns. For example, the Close feature will be the current day's close,the Close_1 feature will be yesterdays close,  and so on and so forth until the Close_3 feature. This will be be the same for all the columns in except for the date and the target varaibles added. "
   ]
  },
  {
   "cell_type": "code",
   "execution_count": 10,
   "metadata": {},
   "outputs": [],
   "source": [
    "cols = df.columns.drop(['Date','Target_Close','Target_pct_change','Target'])\n",
    "m = 3 # days from the past to inlclude in the model\n",
    "for i in range(1,m+1):\n",
    "    for col in cols:\n",
    "        df[col+'_'+str(i)] = df[col].shift(i)\n",
    "df = df.dropna()   "
   ]
  },
  {
   "cell_type": "code",
   "execution_count": 11,
   "metadata": {},
   "outputs": [
    {
     "data": {
      "text/plain": [
       "(4918, 144)"
      ]
     },
     "execution_count": 11,
     "metadata": {},
     "output_type": "execute_result"
    }
   ],
   "source": [
    "df.shape"
   ]
  },
  {
   "cell_type": "markdown",
   "metadata": {},
   "source": [
    "## Scaling and Splitting \n",
    "---\n",
    "Stock prices are time series data so the order matters. Cross validation makes random cross folds that are not in sequential order. For this aformentioned reason I am going to split the data into a train, validation and test(holdout). The test set will not be used on the most optimal model."
   ]
  },
  {
   "cell_type": "code",
   "execution_count": 12,
   "metadata": {},
   "outputs": [],
   "source": [
    "holdout_cuttoff = int(0.9*df.shape[0])\n",
    "holdout = df[holdout_cuttoff:]\n",
    "df = df[:holdout_cuttoff]"
   ]
  },
  {
   "cell_type": "code",
   "execution_count": 13,
   "metadata": {},
   "outputs": [],
   "source": [
    "from sklearn.preprocessing import MinMaxScaler\n",
    "from sklearn.metrics import mean_squared_error\n",
    "from sklearn.neighbors import KNeighborsRegressor\n",
    "\n",
    "def split(df, columns, label):\n",
    "    cutoff = int(df.shape[0]*.8)\n",
    "    train = df[:cutoff]\n",
    "    test = df[cutoff:]\n",
    "    \n",
    "    X_train, y_train = train[columns], train[label]\n",
    "    X_test, y_test = test[columns], test[label]\n",
    "    \n",
    "    return X_train, y_train, X_test, y_test\n",
    "\n",
    "def split_scale_df(df,columns, label):\n",
    "    cutoff = int(df.shape[0]*.8)\n",
    "\n",
    "    x_scaler = MinMaxScaler()\n",
    "    y_scaler = MinMaxScaler()\n",
    "    y = np.expand_dims(df[label], -1)\n",
    "\n",
    "    x_scaled= x_scaler.fit_transform(df[columns])\n",
    "    y_scaled = y_scaler.fit_transform(y)\n",
    "\n",
    "\n",
    "\n",
    "    X_train_scaled = x_scaled[:cutoff]\n",
    "    y_train_scaled = y_scaled[:cutoff]\n",
    "\n",
    "    X_test_scaled = x_scaled[cutoff:]\n",
    "    y_test_scaled = y_scaled[cutoff:] \n",
    "    \n",
    "    return  X_train_scaled, y_train_scaled, X_test_scaled, y_test_scaled, y_scaler"
   ]
  },
  {
   "cell_type": "markdown",
   "metadata": {},
   "source": [
    "# Evaluation \n",
    "\n",
    "---\n",
    "\n",
    "### Helper Functions \n",
    "- to get the proper RMSE and graph the output, the predicted values have to be inversely transformed back into the percentage change which is then multiplied by the previous close to get the predicted price\n",
    "- transoform the predicted percent change to 1 if positive and 0 if negative to signify buy or pass"
   ]
  },
  {
   "cell_type": "code",
   "execution_count": 14,
   "metadata": {},
   "outputs": [],
   "source": [
    "from sklearn.metrics import accuracy_score, precision_score\n",
    "\n",
    "def split_scale_train_yhat(df, features, label, model):\n",
    "    \n",
    "    X_train, y_train, X_test, y_test, y_scaler = split_scale_df(df, features, label)\n",
    "    model.fit(X_train, y_train)\n",
    "    y_hat = model.predict(X_test)\n",
    "    y_hat = y_scaler.inverse_transform(y_hat.reshape(-1,1))\n",
    "    y_test = y_scaler.inverse_transform(y_test)\n",
    "    y_test = pd.Series(y_test[:,0])\n",
    "    y_hat = pd.Series(y_hat[:,0])\n",
    "    \n",
    "    return y_hat, y_test\n",
    "\n",
    "def binary_class_accuaracy(y_test, y_hat):\n",
    "    y_test = y_test.apply(lambda x:1 if x>0 else 0)\n",
    "    y_hat = y_hat.apply(lambda x:1 if x>0 else 0)\n",
    "    accuracy = accuracy_score(y_test, y_hat)\n",
    "    \n",
    "    return accuracy\n",
    "\n",
    "def binary_class_precision(y_test, y_hat):\n",
    "    y_test = y_test.apply(lambda x:1 if x>0 else 0)\n",
    "    y_hat = y_hat.apply(lambda x:1 if x>0 else 0)\n",
    "    precision = precision_score(y_test, y_hat)\n",
    "    \n",
    "    return precision\n",
    "\n",
    "def evalu(df, y_hat):\n",
    "    cutoff = int(df.shape[0]*.8)\n",
    "    evaluation = df.copy()\n",
    "    \n",
    "    evaluation = df[['Date','Close','Target_Close','Target_pct_change','Target']].iloc[cutoff:]\n",
    "    evaluation.set_index('Date', inplace = True)\n",
    "    evaluation['Predicted_pct_change'] = y_hat.values\n",
    "    evaluation['Predicted_Close'] = evaluation['Close'] * evaluation['Predicted_pct_change'] + evaluation['Close']\n",
    "    evaluation['Predcited_direction'] = evaluation['Predicted_pct_change'].apply(lambda x: 1 if x>0 else 0)\n",
    "    \n",
    "    return evaluation\n",
    "\n"
   ]
  },
  {
   "cell_type": "markdown",
   "metadata": {},
   "source": [
    "### Evaluating with current day values non engineered values\n",
    "---\n",
    "I did some experimentation on the KNearest neighbor regressor before writing this notebook and found that setting  n_neighbors to 9 worked well. However, I'll tune the hyperparamters more thoroughly later in this notebook"
   ]
  },
  {
   "cell_type": "code",
   "execution_count": 15,
   "metadata": {
    "scrolled": false
   },
   "outputs": [
    {
     "name": "stdout",
     "output_type": "stream",
     "text": [
      "rmse: 2.134621612580881\n",
      "accuaracy: 0.4604966139954853\n",
      "precision: 0.5067567567567568\n"
     ]
    }
   ],
   "source": [
    "features = ['Close','Open','Low','High']\n",
    "label = 'Target_pct_change'\n",
    "model = KNeighborsRegressor(n_neighbors=9)\n",
    "y_hat, y_test = split_scale_train_yhat(df, features, label, model)\n",
    "\n",
    "evaluation = evalu(df, y_hat)\n",
    "accuracy = binary_class_accuaracy(y_hat,y_test)\n",
    "precision = binary_class_precision(y_test,y_hat)\n",
    "rmse = np.sqrt(mean_squared_error(evaluation['Target_Close'], evaluation['Predicted_Close']))\n",
    "\n",
    "print('rmse:',rmse)\n",
    "print('accuaracy:', accuracy)\n",
    "print('precision:', precision)\n"
   ]
  },
  {
   "cell_type": "code",
   "execution_count": 16,
   "metadata": {
    "scrolled": true
   },
   "outputs": [
    {
     "data": {
      "text/html": [
       "<div>\n",
       "<style scoped>\n",
       "    .dataframe tbody tr th:only-of-type {\n",
       "        vertical-align: middle;\n",
       "    }\n",
       "\n",
       "    .dataframe tbody tr th {\n",
       "        vertical-align: top;\n",
       "    }\n",
       "\n",
       "    .dataframe thead th {\n",
       "        text-align: right;\n",
       "    }\n",
       "</style>\n",
       "<table border=\"1\" class=\"dataframe\">\n",
       "  <thead>\n",
       "    <tr style=\"text-align: right;\">\n",
       "      <th></th>\n",
       "      <th>Close</th>\n",
       "      <th>Target_Close</th>\n",
       "      <th>Target_pct_change</th>\n",
       "      <th>Target</th>\n",
       "      <th>Predicted_pct_change</th>\n",
       "      <th>Predicted_Close</th>\n",
       "      <th>Predcited_direction</th>\n",
       "    </tr>\n",
       "    <tr>\n",
       "      <th>Date</th>\n",
       "      <th></th>\n",
       "      <th></th>\n",
       "      <th></th>\n",
       "      <th></th>\n",
       "      <th></th>\n",
       "      <th></th>\n",
       "      <th></th>\n",
       "    </tr>\n",
       "  </thead>\n",
       "  <tbody>\n",
       "    <tr>\n",
       "      <th>2015-08-14</th>\n",
       "      <td>209.419998</td>\n",
       "      <td>210.589996</td>\n",
       "      <td>0.005587</td>\n",
       "      <td>1</td>\n",
       "      <td>0.003315</td>\n",
       "      <td>210.114191</td>\n",
       "      <td>1</td>\n",
       "    </tr>\n",
       "    <tr>\n",
       "      <th>2015-08-17</th>\n",
       "      <td>210.589996</td>\n",
       "      <td>209.979996</td>\n",
       "      <td>-0.002897</td>\n",
       "      <td>0</td>\n",
       "      <td>-0.000453</td>\n",
       "      <td>210.494621</td>\n",
       "      <td>0</td>\n",
       "    </tr>\n",
       "    <tr>\n",
       "      <th>2015-08-18</th>\n",
       "      <td>209.979996</td>\n",
       "      <td>208.320007</td>\n",
       "      <td>-0.007905</td>\n",
       "      <td>0</td>\n",
       "      <td>-0.004910</td>\n",
       "      <td>208.948890</td>\n",
       "      <td>0</td>\n",
       "    </tr>\n",
       "    <tr>\n",
       "      <th>2015-08-19</th>\n",
       "      <td>208.320007</td>\n",
       "      <td>203.970001</td>\n",
       "      <td>-0.020881</td>\n",
       "      <td>0</td>\n",
       "      <td>0.005584</td>\n",
       "      <td>209.483216</td>\n",
       "      <td>1</td>\n",
       "    </tr>\n",
       "    <tr>\n",
       "      <th>2015-08-20</th>\n",
       "      <td>203.970001</td>\n",
       "      <td>197.830002</td>\n",
       "      <td>-0.030102</td>\n",
       "      <td>0</td>\n",
       "      <td>-0.000210</td>\n",
       "      <td>203.927229</td>\n",
       "      <td>0</td>\n",
       "    </tr>\n",
       "  </tbody>\n",
       "</table>\n",
       "</div>"
      ],
      "text/plain": [
       "                 Close  Target_Close  Target_pct_change  Target  \\\n",
       "Date                                                              \n",
       "2015-08-14  209.419998    210.589996           0.005587       1   \n",
       "2015-08-17  210.589996    209.979996          -0.002897       0   \n",
       "2015-08-18  209.979996    208.320007          -0.007905       0   \n",
       "2015-08-19  208.320007    203.970001          -0.020881       0   \n",
       "2015-08-20  203.970001    197.830002          -0.030102       0   \n",
       "\n",
       "            Predicted_pct_change  Predicted_Close  Predcited_direction  \n",
       "Date                                                                    \n",
       "2015-08-14              0.003315       210.114191                    1  \n",
       "2015-08-17             -0.000453       210.494621                    0  \n",
       "2015-08-18             -0.004910       208.948890                    0  \n",
       "2015-08-19              0.005584       209.483216                    1  \n",
       "2015-08-20             -0.000210       203.927229                    0  "
      ]
     },
     "execution_count": 16,
     "metadata": {},
     "output_type": "execute_result"
    }
   ],
   "source": [
    "evaluation.head()"
   ]
  },
  {
   "cell_type": "markdown",
   "metadata": {},
   "source": [
    "## Bemchmark"
   ]
  },
  {
   "cell_type": "code",
   "execution_count": 17,
   "metadata": {
    "scrolled": true
   },
   "outputs": [
    {
     "data": {
      "text/plain": [
       "1    0.541761\n",
       "0    0.458239\n",
       "Name: Target, dtype: float64"
      ]
     },
     "execution_count": 17,
     "metadata": {},
     "output_type": "execute_result"
    }
   ],
   "source": [
    "evaluation['Target'].value_counts(normalize=True)"
   ]
  },
  {
   "cell_type": "markdown",
   "metadata": {},
   "source": [
    "- The 1 shows the amount of times the SPY had a positive percent change from the previous day's close \n",
    "- This is also what the model is trying to beat. If model guesses up every single day then it would guess right 54.44% of the time. The goal of this model is to get a precision value that beats 54.17% "
   ]
  },
  {
   "cell_type": "code",
   "execution_count": 18,
   "metadata": {
    "scrolled": true
   },
   "outputs": [
    {
     "data": {
      "text/plain": [
       "0    738\n",
       "1    148\n",
       "Name: Predcited_direction, dtype: int64"
      ]
     },
     "execution_count": 18,
     "metadata": {},
     "output_type": "execute_result"
    }
   ],
   "source": [
    "evaluation['Predcited_direction'].value_counts()"
   ]
  },
  {
   "cell_type": "markdown",
   "metadata": {},
   "source": [
    "## Visualization "
   ]
  },
  {
   "cell_type": "code",
   "execution_count": 19,
   "metadata": {},
   "outputs": [
    {
     "data": {
      "image/png": "[encoded data removed]",
      "text/plain": [
       "<Figure size 1296x432 with 2 Axes>"
      ]
     },
     "metadata": {
      "needs_background": "light"
     },
     "output_type": "display_data"
    }
   ],
   "source": [
    "fig, axes = plt.subplots(ncols=2, nrows=1, figsize=(18,6))\n",
    "axes[0].plot(evaluation['Target_Close'])\n",
    "axes[0].plot(evaluation['Predicted_Close'])\n",
    "axes[0].set_title('Test Period',fontsize = 15)\n",
    "axes[0].set_ylabel('Stock Price', fontsize = 13)\n",
    "axes[0].set_xlabel('Date', fontsize=13)\n",
    "\n",
    "axes[1].plot(evaluation['Target_Close'][-50:], label = 'Target Close')\n",
    "axes[1].plot(evaluation['Predicted_Close'][-50:], label = 'Predicted Close')\n",
    "axes[1].set_title('50 Days',fontsize = 15)\n",
    "axes[1].set_ylabel('Stock Price', fontsize=13)\n",
    "axes[1].set_xlabel('Date', fontsize=13)\n",
    "axes[1].legend()\n",
    "plt.show()"
   ]
  },
  {
   "cell_type": "markdown",
   "metadata": {},
   "source": [
    "### Graph \n",
    "From the graph above, the model looks like this the model is doing very well but again it it was accurate on the direction only 50 percent of the time. It the model looks it's predicting a small percentage change every time. That is why it looks like the model is just following the actual closing price. This suspicion is predicted in the graph belo where the Closeing price and the predicted price are graphed. The predicted price looks like it is just tracing slightly below the actual closing price"
   ]
  },
  {
   "cell_type": "code",
   "execution_count": 20,
   "metadata": {},
   "outputs": [
    {
     "data": {
      "image/png": "[encoded data removed]",
      "text/plain": [
       "<Figure size 432x288 with 1 Axes>"
      ]
     },
     "metadata": {
      "needs_background": "light"
     },
     "output_type": "display_data"
    }
   ],
   "source": [
    "def plot_price(df,price1, price2, days):\n",
    "    fig, ax = plt.subplots(figsize=(6,4))\n",
    "    ax.plot(evaluation[price1][-days:], label = price1)\n",
    "    ax.plot(evaluation[price2][-days:], label = price2)\n",
    "    ax.set_title(str(days)+' Days',fontsize = 15)\n",
    "    ax.set_ylabel('Stock Price', fontsize=13)\n",
    "    ax.set_xlabel('Date', fontsize=13)\n",
    "    plt.xticks(rotation = 40)\n",
    "    ax.legend()\n",
    "    plt.show()\n",
    "    \n",
    "plot_price(evaluation, 'Close','Predicted_Close', 20)"
   ]
  },
  {
   "cell_type": "markdown",
   "metadata": {},
   "source": [
    "## Evaluating using Engineered Features "
   ]
  },
  {
   "cell_type": "code",
   "execution_count": 21,
   "metadata": {},
   "outputs": [
    {
     "name": "stdout",
     "output_type": "stream",
     "text": [
      "rmse: 2.1725236577954345\n",
      "accuaracy: 0.4887133182844244\n",
      "precision: 0.541795665634675\n",
      "\n",
      "0    563\n",
      "1    323\n",
      "Name: Predcited_direction, dtype: int64\n"
     ]
    }
   ],
   "source": [
    "knn = KNeighborsRegressor(n_neighbors=9)\n",
    "features = ['Close/10MA','10/50MA','50/150MA','pct_change','rsi','Vix_Close','Futures_Close']\n",
    "label = 'Target_pct_change'\n",
    "\n",
    "def metrics(df, features, label, model):\n",
    "    y_hat, y_test = split_scale_train_yhat(df, features, label, model)\n",
    "\n",
    "    evaluation = evalu(df, y_hat)\n",
    "    accuracy = binary_class_accuaracy(y_hat,y_test)\n",
    "    precision = binary_class_precision(y_test,y_hat)\n",
    "    rmse = np.sqrt(mean_squared_error(evaluation['Target_Close'], evaluation['Predicted_Close']))\n",
    "\n",
    "    print('rmse:',rmse)\n",
    "    print('accuaracy:', accuracy)\n",
    "    print('precision:', precision)\n",
    "    print('')\n",
    "    print(evaluation['Predcited_direction'].value_counts())\n",
    "    \n",
    "    return evaluation\n",
    "evaluation1 = metrics(df, features, label, model)"
   ]
  },
  {
   "cell_type": "markdown",
   "metadata": {},
   "source": [
    "The model accuracy has has stayed stagnant but the precision has changed. It is more selective on predicting a postive percent change. The precision also went up to 54.18% which is approaching the bench mark precision of 54.44% stated earlier in the notebook.  \n",
    " \n",
    "I made a helper function that will help me generate a list of feautres I want from the previous days without having to type the list out."
   ]
  },
  {
   "cell_type": "code",
   "execution_count": 22,
   "metadata": {},
   "outputs": [],
   "source": [
    "# m is the number of days in the past we want in the list. \n",
    "def feature_selection(m, features):\n",
    "    columns = []\n",
    "    if m >0:\n",
    "        for i in range(1,m+1):\n",
    "            for col in features:\n",
    "                columns.append(col+'_'+str(i))\n",
    "        return columns\n",
    "    else:\n",
    "        return features"
   ]
  },
  {
   "cell_type": "markdown",
   "metadata": {},
   "source": [
    "**Lets start with with all the feautres for the current day**"
   ]
  },
  {
   "cell_type": "code",
   "execution_count": 23,
   "metadata": {},
   "outputs": [
    {
     "name": "stdout",
     "output_type": "stream",
     "text": [
      "rmse: 2.182608587544395\n",
      "accuaracy: 0.49435665914221216\n",
      "precision: 0.5444444444444444\n",
      "\n",
      "0    526\n",
      "1    360\n",
      "Name: Predcited_direction, dtype: int64\n"
     ]
    }
   ],
   "source": [
    "knn = KNeighborsRegressor(n_neighbors=9)\n",
    "features = df.columns[1:36] ## exludes the date\n",
    "label = 'Target_pct_change'\n",
    "evaluation = metrics(df, features, label, model)"
   ]
  },
  {
   "cell_type": "code",
   "execution_count": 24,
   "metadata": {},
   "outputs": [
    {
     "name": "stdout",
     "output_type": "stream",
     "text": [
      "rmse: 2.13269624532682\n",
      "accuaracy: 0.49435665914221216\n",
      "precision: 0.5390243902439025\n",
      "\n",
      "0    476\n",
      "1    410\n",
      "Name: Predcited_direction, dtype: int64\n"
     ]
    }
   ],
   "source": [
    "knn = KNeighborsRegressor(n_neighbors=9)\n",
    "features = feature_selection(3, df.columns[1:36])\n",
    "label = 'Target_pct_change'\n",
    "evaluation = metrics(df, features, label, model)"
   ]
  },
  {
   "cell_type": "markdown",
   "metadata": {},
   "source": [
    "The model is overwhelmed with over 100 features as input and as a result is performing poorly. The next step is cut down on the  amount of features"
   ]
  },
  {
   "cell_type": "markdown",
   "metadata": {},
   "source": [
    "## Feature Selection\n",
    "---\n",
    "With over 100 feautres, finding the correct combination by hand will take an extraordinary amount of time. Instead I will randomaly generate 7 feautres, input them into the model, and test for precision. This process will be repeated 40000 times and the feature combination with the highest precision will be chosen. The 7 was chosen randomly and can be tuned for bettwe/worse performance."
   ]
  },
  {
   "cell_type": "code",
   "execution_count": 25,
   "metadata": {},
   "outputs": [
    {
     "name": "stdout",
     "output_type": "stream",
     "text": [
      "0.6481481481481481\n",
      "['High_2', 'pct_change_3', 'Daily_pct_change_3', '10/50STD_1', '10/50MA_1', 'Low_1', '50_Volume_1']\n"
     ]
    }
   ],
   "source": [
    "features = feature_selection(3, df.columns[1:36])\n",
    "label = 'Target_pct_change'\n",
    "num_feats = 7\n",
    "samples = 40000\n",
    "scores = {}\n",
    "\n",
    "for i in range(samples):\n",
    "    np.random.seed(i)\n",
    "    model = KNeighborsRegressor(n_neighbors=9)\n",
    "    cols = np.random.choice(features, size=num_feats, replace = False).tolist()\n",
    "    y_hat, y_test = split_scale_train_yhat(df, cols, label, model)\n",
    "    precision = binary_class_precision(y_test,y_hat)\n",
    "    scores[precision] = cols\n",
    "\n",
    "print(max(scores))\n",
    "print(scores[max(scores)])"
   ]
  },
  {
   "cell_type": "code",
   "execution_count": 26,
   "metadata": {
    "scrolled": true
   },
   "outputs": [],
   "source": [
    "# 0.6481481481481481\n",
    "#['High_2', 'pct_change_3', 'Daily_pct_change_3', '10/50STD_1', '10/50MA_1', 'Low_1', '50_Volume_1']\n",
    "# 0.6434782608695652\n",
    "# ['Close_2', 'range_oc_3', '50STD_3', '50_Volume_1', 'Vix_20MA_2', '10MA_3', 'Open_3']"
   ]
  },
  {
   "cell_type": "code",
   "execution_count": 27,
   "metadata": {
    "scrolled": true
   },
   "outputs": [
    {
     "name": "stdout",
     "output_type": "stream",
     "text": [
      "Scores: 0.6481481481481481\n",
      "Features: ['High_2', 'pct_change_3', 'Daily_pct_change_3', '10/50STD_1', '10/50MA_1', 'Low_1', '50_Volume_1']\n",
      "\n",
      "Scores: 0.6447368421052632\n",
      "Features: ['150MA_3', 'High_2', 'Close/10MA_2', 'Vix_20MA_3', 'Close_3', '50STD_1', 'Vix_Close/20MA_3']\n",
      "\n",
      "Scores: 0.6351351351351351\n",
      "Features: ['Vix_20MA_1', '50STD_2', 'Close/10MA_2', 'Vix_Close/20MA_3', 'High_1', '10MA_3', 'High_3']\n",
      "\n",
      "Scores: 0.6324786324786325\n",
      "Features: ['Close_2', 'range_oc_3', '50STD_3', '50_Volume_1', 'Vix_20MA_2', '10MA_3', 'Open_3']\n",
      "\n",
      "Scores: 0.6305732484076433\n",
      "Features: ['High_1', '50_Volume_1', 'High_2', '50/150MA_2', '50STD_1', '50_150MA_3', 'Close_10MA_1']\n",
      "\n"
     ]
    }
   ],
   "source": [
    "scores = sorted(scores.items(), reverse=True)\n",
    "for key, val in scores[:5]:\n",
    "    print(f'Scores: {key}')\n",
    "    print(f'Features: {val}')\n",
    "    print('')"
   ]
  },
  {
   "cell_type": "code",
   "execution_count": 28,
   "metadata": {
    "scrolled": true
   },
   "outputs": [
    {
     "name": "stdout",
     "output_type": "stream",
     "text": [
      "rmse: 2.1168621247514983\n",
      "accuaracy: 0.5124153498871332\n",
      "precision: 0.6481481481481481\n",
      "\n",
      "0    724\n",
      "1    162\n",
      "Name: Predcited_direction, dtype: int64\n"
     ]
    }
   ],
   "source": [
    "model = KNeighborsRegressor(n_neighbors=9)\n",
    "features = scores[0][1]\n",
    "label = 'Target_pct_change'\n",
    "evaluation = metrics(df, features, label, model)\n",
    "y_hat, y_test = split_scale_train_yhat(df, features, label, model)"
   ]
  },
  {
   "cell_type": "markdown",
   "metadata": {},
   "source": [
    "## Hyper Paramter tunning\n",
    "---\n",
    "I will be building  a custom parameter tunning code for K nearest neighbors becasue of the of its lack of binary output.\n",
    "I will have to tranform the output from a percent change to a 1 or a 0 then taking the precsion for each paremter at each iteration.\n",
    "Also becasue I am using time serires data I do not want to use K folds which would shuffle the dates around, taking the data out of sequential order"
   ]
  },
  {
   "cell_type": "code",
   "execution_count": 29,
   "metadata": {},
   "outputs": [],
   "source": [
    "from sklearn.neighbors import KNeighborsRegressor\n",
    "\n",
    "param_grid = {'n_neighbors' :list(range(1,30,5)),'weights' : ['uniform', 'distance'],'algorithm' : \n",
    "              ['auto', 'ball_tree','kd_tree','brute'],'p' : [1,2],'leaf_size':list(range(10,60,10))}\n",
    "\n",
    "\n",
    "label = 'Target_pct_change'\n",
    "features =  ['High_2', 'pct_change_3', 'Daily_pct_change_3', '10/50STD_1', '10/50MA_1', 'Low_1', '50_Volume_1']\n",
    "\n",
    "\n",
    "def grid_search(param_grid, features, label,df):\n",
    "    params = [(key, val) for key, val in param_grid.items()]\n",
    "\n",
    "    grid_scores = {}\n",
    "\n",
    "    for i in params[0][1]:\n",
    "        for j in params[1][1]:\n",
    "            for k in params[2][1]:\n",
    "                for l in params[3][1]:\n",
    "                    for m in params[4][1]:\n",
    "                        model = KNeighborsRegressor(n_neighbors=i, weights=j,algorithm=k, p=l, leaf_size=m)\n",
    "                        y_hat, y_test = split_scale_train_yhat(df, features, label, model)\n",
    "                        precision = binary_class_precision(y_test,y_hat)\n",
    "                        grid_scores[precision] = (i,j,k,l,m)\n",
    "                        \n",
    "    grid_scores = sorted(grid_scores.items(), reverse=True)\n",
    "    \n",
    "    return grid_scores\n",
    "\n",
    "grid_scores = grid_search(param_grid, features, label,df)\n",
    "                "
   ]
  },
  {
   "cell_type": "code",
   "execution_count": 30,
   "metadata": {
    "scrolled": true
   },
   "outputs": [
    {
     "name": "stdout",
     "output_type": "stream",
     "text": [
      "Hyperparamter Tuning Results:\n",
      "\n",
      "Scores: 0.644927536231884\n",
      "Features: (21, 'distance', 'brute', 2, 50)\n",
      "\n",
      "Scores: 0.6385542168674698\n",
      "Features: (11, 'uniform', 'brute', 2, 50)\n",
      "\n",
      "Scores: 0.6304347826086957\n",
      "Features: (26, 'distance', 'brute', 2, 50)\n",
      "\n",
      "Scores: 0.6293706293706294\n",
      "Features: (16, 'distance', 'brute', 2, 50)\n",
      "\n",
      "Scores: 0.6242424242424243\n",
      "Features: (11, 'distance', 'brute', 2, 50)\n",
      "\n"
     ]
    }
   ],
   "source": [
    "print('Hyperparamter Tuning Results:\\n')\n",
    "for key, val in grid_scores[:5]:\n",
    "    print(f'Scores: {key}')\n",
    "    print(f'Features: {val}')\n",
    "    print('')"
   ]
  },
  {
   "cell_type": "markdown",
   "metadata": {},
   "source": [
    "### Results\n",
    "The hyper paramter tuning yielded lower results on the same features than the base model with n_neighbors = 9.\n",
    "I am going to take the top 10 performing features from the base model and run each on the grid search function built above to see if it yields better results "
   ]
  },
  {
   "cell_type": "code",
   "execution_count": 31,
   "metadata": {},
   "outputs": [],
   "source": [
    "param_grid = {'n_neighbors' :list(range(1,30,5)),'weights' : ['uniform', 'distance'],'algorithm' : \n",
    "              ['auto', 'ball_tree','kd_tree','brute'],'p' : [1,2],'leaf_size':list(range(10,60,10))}\n",
    "\n",
    "label = 'Target_pct_change'\n",
    "\n",
    "best_scores = {}\n",
    "for score, features in scores[:10]:\n",
    "    grid_scores = grid_search(param_grid, features, label,df)\n",
    "    best_scores[grid_scores[0][0]] = [grid_scores[0][1], features]\n",
    "best_scores = sorted(best_scores.items(), reverse=True)"
   ]
  },
  {
   "cell_type": "code",
   "execution_count": 32,
   "metadata": {},
   "outputs": [
    {
     "name": "stdout",
     "output_type": "stream",
     "text": [
      "Hyperparamter Tuning Results:\n",
      "\n",
      "Scores: 0.644927536231884\n",
      "Features and Paramters: [(21, 'distance', 'brute', 2, 50), ['High_2', 'pct_change_3', 'Daily_pct_change_3', '10/50STD_1', '10/50MA_1', 'Low_1', '50_Volume_1']]\n",
      "\n",
      "Scores: 0.6338028169014085\n",
      "Features and Paramters: [(11, 'uniform', 'brute', 2, 50), ['Vix_20MA_1', '50STD_2', 'Close/10MA_2', 'Vix_Close/20MA_3', 'High_1', '10MA_3', 'High_3']]\n",
      "\n",
      "Scores: 0.6300813008130082\n",
      "Features and Paramters: [(11, 'uniform', 'brute', 2, 50), ['pct_change_2', 'Vix_Close_2', 'Open_2', 'range_oc_3', '50_Volume_2', 'Volume_3', '50MA_3']]\n",
      "\n",
      "Scores: 0.6234177215189873\n",
      "Features and Paramters: [(11, 'distance', 'brute', 2, 50), ['50MA_2', '150MA_1', '10/50STD_3', '50/150MA_2', 'Futures_Close_1', 'Vix_Close/20MA_3', '10_50STD_3']]\n",
      "\n",
      "Scores: 0.6222222222222222\n",
      "Features and Paramters: [(11, 'uniform', 'brute', 2, 50), ['Close_2', 'range_oc_3', '50STD_3', '50_Volume_1', 'Vix_20MA_2', '10MA_3', 'Open_3']]\n",
      "\n"
     ]
    }
   ],
   "source": [
    "print('Hyperparamter Tuning Results:\\n')\n",
    "for key, val in best_scores[:5]:\n",
    "    print(f'Scores: {key}')\n",
    "    print(f'Features and Paramters: {val}')\n",
    "    print('')"
   ]
  },
  {
   "cell_type": "markdown",
   "metadata": {},
   "source": [
    "The precision of the best combinations of feautes is 64.49% which is about 10% higher than hour bench mark. The accuracy of the model went down from previous models which means it was more selective on when to predict the stock was going up. I am skeptical becasue of the obsucirty of the features. It makes more sense that the current day features will have a greater importance on the precision of the model but in this case, that is not true. "
   ]
  },
  {
   "cell_type": "markdown",
   "metadata": {},
   "source": [
    "## In Depth Evluation: Recall, Precision, Precision Recall Curve\n",
    "---\n",
    "No now that we have several models to choose from, I am going to narrow the models. Precision is important to a long trader but we need enough positive buy signals to generate a significant return on investment. I am going to be selecting the paramters and/or features with the highest area under the precsion recall curve"
   ]
  },
  {
   "cell_type": "code",
   "execution_count": 33,
   "metadata": {},
   "outputs": [],
   "source": [
    "from sklearn.metrics import auc\n",
    "from sklearn.metrics import recall_score\n",
    "\n",
    "def recall_precision(thresholds,df,features,label, model):\n",
    "    \n",
    "    y_hat, y_test = split_scale_train_yhat(df, features, label, model)\n",
    "    y_test_binary = y_test.apply(lambda x: 1 if x>0 else 0)\n",
    "\n",
    "    pct_changes = np.linspace(y_hat.min(), y_hat.max(), thresholds)\n",
    "    precisions = []\n",
    "    recalls = []\n",
    "\n",
    "    for i in pct_changes:\n",
    "        y_hat_binary = y_hat.apply(lambda x: 1 if x>i else 0)\n",
    "        precision = precision_score(y_test_binary, y_hat_binary)\n",
    "        recall = recall_score(y_test_binary, y_hat_binary)\n",
    "\n",
    "        precisions.append(precision)\n",
    "        recalls.append(recall)\n",
    "        \n",
    "    return auc(recalls, precisions)\n"
   ]
  },
  {
   "cell_type": "markdown",
   "metadata": {},
   "source": [
    "#### Below are three lists with the model AUC acores and features/hyperparamters associated with it. The list is ordered in descending AUC score order"
   ]
  },
  {
   "cell_type": "markdown",
   "metadata": {},
   "source": [
    "**Best feature groups with not tuning:**\n",
    "- model parameters: n_neighbors = 9\n",
    "- features: vary"
   ]
  },
  {
   "cell_type": "code",
   "execution_count": 34,
   "metadata": {
    "scrolled": false
   },
   "outputs": [
    {
     "data": {
      "text/plain": [
       "[(0.6078753514514987,\n",
       "  ['50MA_2',\n",
       "   '150MA_1',\n",
       "   '10/50STD_3',\n",
       "   '50/150MA_2',\n",
       "   'Futures_Close_1',\n",
       "   'Vix_Close/20MA_3',\n",
       "   '10_50STD_3']),\n",
       " (0.5841793868417564,\n",
       "  ['150MA_3',\n",
       "   'High_2',\n",
       "   'Close/10MA_2',\n",
       "   'Vix_20MA_3',\n",
       "   'Close_3',\n",
       "   '50STD_1',\n",
       "   'Vix_Close/20MA_3']),\n",
       " (0.5831221137459186,\n",
       "  ['range_hl_3',\n",
       "   'range_oc_2',\n",
       "   '50MA_1',\n",
       "   'Open_3',\n",
       "   'Low_3',\n",
       "   '10/50STD_1',\n",
       "   'Futures_Close_1'])]"
      ]
     },
     "execution_count": 34,
     "metadata": {},
     "output_type": "execute_result"
    }
   ],
   "source": [
    "label = 'Target_pct_change'\n",
    "non_tune_auc = {}\n",
    "\n",
    "for score, features in scores[:20]:\n",
    "    model = KNeighborsRegressor(n_neighbors=9)\n",
    "    score = recall_precision(100,df,features,label, model)\n",
    "    non_tune_auc[score] = features\n",
    "non_tune_auc = sorted(non_tune_auc.items(), reverse=True)\n",
    "non_tune_auc[:3]"
   ]
  },
  {
   "cell_type": "markdown",
   "metadata": {},
   "source": [
    "**The best feature group with tunning:**\n",
    "- model parameters: vary\n",
    "- features:  ['Close_2', 'range_oc_3', '50STD_3', '50_Volume_1', 'Vix_20MA_2', '10MA_3', 'Open_3']"
   ]
  },
  {
   "cell_type": "code",
   "execution_count": 35,
   "metadata": {
    "scrolled": true
   },
   "outputs": [
    {
     "data": {
      "text/plain": [
       "[(0.5694725369432553,\n",
       "  ['Close_2',\n",
       "   'range_oc_3',\n",
       "   '50STD_3',\n",
       "   '50_Volume_1',\n",
       "   'Vix_20MA_2',\n",
       "   '10MA_3',\n",
       "   'Open_3']),\n",
       " (0.568318951837034,\n",
       "  ['Close_2',\n",
       "   'range_oc_3',\n",
       "   '50STD_3',\n",
       "   '50_Volume_1',\n",
       "   'Vix_20MA_2',\n",
       "   '10MA_3',\n",
       "   'Open_3']),\n",
       " (0.5598335037552431,\n",
       "  ['Close_2',\n",
       "   'range_oc_3',\n",
       "   '50STD_3',\n",
       "   '50_Volume_1',\n",
       "   'Vix_20MA_2',\n",
       "   '10MA_3',\n",
       "   'Open_3'])]"
      ]
     },
     "execution_count": 35,
     "metadata": {},
     "output_type": "execute_result"
    }
   ],
   "source": [
    "label = 'Target_pct_change'\n",
    "features =  ['Close_2', 'range_oc_3', '50STD_3', '50_Volume_1', 'Vix_20MA_2', '10MA_3', 'Open_3']\n",
    "\n",
    "tune_auc = {}\n",
    "for grid_score, param in grid_scores[:20]:\n",
    "    model = KNeighborsRegressor(n_neighbors=param[0], weights=param[1],algorithm=param[2], p=param[3], leaf_size=param[4])\n",
    "    score = recall_precision(100,df,features,label, model)\n",
    "    tune_auc[score] = features\n",
    "tune_auc = sorted(tune_auc.items(), reverse=True)\n",
    "tune_auc[:3]    "
   ]
  },
  {
   "cell_type": "markdown",
   "metadata": {},
   "source": [
    "**The best features group with tunning:**\n",
    "- model paramters: vary\n",
    "- features: vary"
   ]
  },
  {
   "cell_type": "code",
   "execution_count": 36,
   "metadata": {
    "scrolled": true
   },
   "outputs": [
    {
     "data": {
      "text/plain": [
       "[(0.6059884407506709,\n",
       "  [(11, 'distance', 'brute', 2, 50),\n",
       "   ['50MA_2',\n",
       "    '150MA_1',\n",
       "    '10/50STD_3',\n",
       "    '50/150MA_2',\n",
       "    'Futures_Close_1',\n",
       "    'Vix_Close/20MA_3',\n",
       "    '10_50STD_3']]),\n",
       " (0.5775954744042104,\n",
       "  [(21, 'distance', 'brute', 2, 50),\n",
       "   ['High_2',\n",
       "    'pct_change_3',\n",
       "    'Daily_pct_change_3',\n",
       "    '10/50STD_1',\n",
       "    '10/50MA_1',\n",
       "    'Low_1',\n",
       "    '50_Volume_1']]),\n",
       " (0.5710268317530911,\n",
       "  [(11, 'uniform', 'brute', 2, 50),\n",
       "   ['pct_change_2',\n",
       "    'Vix_Close_2',\n",
       "    'Open_2',\n",
       "    'range_oc_3',\n",
       "    '50_Volume_2',\n",
       "    'Volume_3',\n",
       "    '50MA_3']])]"
      ]
     },
     "execution_count": 36,
     "metadata": {},
     "output_type": "execute_result"
    }
   ],
   "source": [
    "label = 'Target_pct_change'\n",
    "\n",
    "\n",
    "best_tune_auc = {}\n",
    "for grid_score, param in best_scores[:20]:\n",
    "    model = KNeighborsRegressor(n_neighbors=param[0][0], weights=param[0][1],algorithm=param[0][2],p=param[0][3], leaf_size=param[0][4])\n",
    "    score = recall_precision(100,df,param[1],label, model)\n",
    "    best_tune_auc[score] = [param[0],param[1]]\n",
    "best_tune_auc = sorted(best_tune_auc.items(), reverse=True)\n",
    "best_tune_auc[:3]    "
   ]
  },
  {
   "cell_type": "code",
   "execution_count": 37,
   "metadata": {
    "scrolled": true
   },
   "outputs": [
    {
     "name": "stdout",
     "output_type": "stream",
     "text": [
      "Best Perorming AUC: (0.6078753514514987, ['50MA_2', '150MA_1', '10/50STD_3', '50/150MA_2', 'Futures_Close_1', 'Vix_Close/20MA_3', '10_50STD_3'])\n",
      "\n",
      "Second Best Performing AUC (0.6059884407506709, [(11, 'distance', 'brute', 2, 50), ['50MA_2', '150MA_1', '10/50STD_3', '50/150MA_2', 'Futures_Close_1', 'Vix_Close/20MA_3', '10_50STD_3']])\n"
     ]
    }
   ],
   "source": [
    "print('Best Perorming AUC:', non_tune_auc[0])\n",
    "print('')\n",
    "print('Second Best Performing AUC', best_tune_auc[0])"
   ]
  },
  {
   "cell_type": "markdown",
   "metadata": {},
   "source": [
    "The two best performing  models have the same features. The only difference being that the higher performing one only had the n_neighbors = 9 as the only tuned paramter with the rest being set to default. I am going to be moving foward with the n_neighbors = 9 model for the rest of the evaluation"
   ]
  },
  {
   "cell_type": "code",
   "execution_count": 38,
   "metadata": {},
   "outputs": [
    {
     "name": "stdout",
     "output_type": "stream",
     "text": [
      "              precision    recall  f1-score   support\n",
      "\n",
      "           0       0.50      0.73      0.59       406\n",
      "           1       0.63      0.38      0.47       480\n",
      "\n",
      "    accuracy                           0.54       886\n",
      "   macro avg       0.56      0.56      0.53       886\n",
      "weighted avg       0.57      0.54      0.53       886\n",
      "\n"
     ]
    }
   ],
   "source": [
    "from sklearn.metrics import classification_report\n",
    "model = KNeighborsRegressor(n_neighbors=9)\n",
    "features = ['50MA_2', '150MA_1', '10/50STD_3', '50/150MA_2', 'Futures_Close_1', 'Vix_Close/20MA_3', '10_50STD_3']\n",
    "label = 'Target_pct_change'\n",
    "y_hat, y_test = split_scale_train_yhat(df, features, label, model)\n",
    "evaluation = evalu(df,y_hat)\n",
    "report = classification_report(evaluation['Target'],evaluation['Predcited_direction'])\n",
    "print(report)"
   ]
  },
  {
   "cell_type": "markdown",
   "metadata": {},
   "source": [
    "* **Recall (True Positive Rate): 0.38** \n",
    "* **Precision: 0.63**\n",
    " \n"
   ]
  },
  {
   "cell_type": "markdown",
   "metadata": {},
   "source": [
    "### Precision Recall Curve "
   ]
  },
  {
   "cell_type": "code",
   "execution_count": 39,
   "metadata": {},
   "outputs": [],
   "source": [
    "from sklearn.metrics import recall_score\n",
    "\n",
    "thresholds = 100\n",
    "y_test_binary = y_test.apply(lambda x: 1 if x>0 else 0)\n",
    "\n",
    "pct_changes = np.linspace(y_hat.min(), y_hat.max(), thresholds)\n",
    "precisions = []\n",
    "recalls = []\n",
    "\n",
    "for i in pct_changes:\n",
    "    y_hat_binary = y_hat.apply(lambda x: 1 if x>i else 0)\n",
    "    precision = precision_score(y_test_binary, y_hat_binary)\n",
    "    recall = recall_score(y_test_binary, y_hat_binary)\n",
    "    \n",
    "    precisions.append(precision)\n",
    "    recalls.append(recall)\n",
    "\n"
   ]
  },
  {
   "cell_type": "code",
   "execution_count": 40,
   "metadata": {
    "scrolled": true
   },
   "outputs": [
    {
     "data": {
      "image/png": "[encoded data removed]",
      "text/plain": [
       "<Figure size 1008x288 with 2 Axes>"
      ]
     },
     "metadata": {
      "needs_background": "light"
     },
     "output_type": "display_data"
    }
   ],
   "source": [
    "def pr_curve(precisions, recalls, thresholds):\n",
    "    fig, axes = plt.subplots(nrows=1, ncols=2, figsize=(14,4))\n",
    "    axes[0].plot(recalls,precisions, linestyle='--', label='PR Curve')\n",
    "    axes[0].set_ylabel('Precision')\n",
    "    axes[0].set_xlabel('True Positive Rate')\n",
    "    axes[0].set_title('Precision Recall Curve', fontsize = 13)\n",
    "    axes[0].set_ylim(0,1)\n",
    "    axes[0].legend() \n",
    "\n",
    "    axes[1].plot(pct_changes,precisions, 'b--', label='Precision')\n",
    "    axes[1].plot(pct_changes,recalls, 'g-', label='Recall')\n",
    "    axes[1].set_title('Precsion vs Recall', fontsize=13)\n",
    "    axes[1].set_xlabel('Percent Change Thresholds')\n",
    "    # axes[1].set_xticklabels(axes[1].get_xticks(), rotation = 45)\n",
    "    axes[1].legend()\n",
    "\n",
    "\n",
    "    plt.show()\n",
    "    \n",
    "pr_curve(precisions, recalls, pct_changes)"
   ]
  },
  {
   "cell_type": "code",
   "execution_count": 41,
   "metadata": {},
   "outputs": [
    {
     "data": {
      "text/plain": [
       "0.6078753514514987"
      ]
     },
     "execution_count": 41,
     "metadata": {},
     "output_type": "execute_result"
    }
   ],
   "source": [
    "from sklearn.metrics import auc\n",
    "area_knn= auc(recalls, precisions)\n",
    "area_knn"
   ]
  },
  {
   "cell_type": "markdown",
   "metadata": {},
   "source": [
    "the Precison vs Recall curve shows that a threshold a little bit higher than a percent change of 0 would actually have a higher precision without sacrificing to to much recall when compared to the 0 percent change threshold   "
   ]
  },
  {
   "cell_type": "code",
   "execution_count": 42,
   "metadata": {},
   "outputs": [],
   "source": [
    "class_eval = pd.DataFrame({'precision':precisions,'recalls':recalls,'thresholds':pct_changes})"
   ]
  },
  {
   "cell_type": "code",
   "execution_count": 43,
   "metadata": {},
   "outputs": [
    {
     "data": {
      "text/html": [
       "<div>\n",
       "<style scoped>\n",
       "    .dataframe tbody tr th:only-of-type {\n",
       "        vertical-align: middle;\n",
       "    }\n",
       "\n",
       "    .dataframe tbody tr th {\n",
       "        vertical-align: top;\n",
       "    }\n",
       "\n",
       "    .dataframe thead th {\n",
       "        text-align: right;\n",
       "    }\n",
       "</style>\n",
       "<table border=\"1\" class=\"dataframe\">\n",
       "  <thead>\n",
       "    <tr style=\"text-align: right;\">\n",
       "      <th></th>\n",
       "      <th>precision</th>\n",
       "      <th>recalls</th>\n",
       "      <th>thresholds</th>\n",
       "    </tr>\n",
       "  </thead>\n",
       "  <tbody>\n",
       "    <tr>\n",
       "      <th>49</th>\n",
       "      <td>0.621908</td>\n",
       "      <td>0.366667</td>\n",
       "      <td>0.000100</td>\n",
       "    </tr>\n",
       "    <tr>\n",
       "      <th>50</th>\n",
       "      <td>0.630189</td>\n",
       "      <td>0.347917</td>\n",
       "      <td>0.000248</td>\n",
       "    </tr>\n",
       "    <tr>\n",
       "      <th>51</th>\n",
       "      <td>0.633466</td>\n",
       "      <td>0.331250</td>\n",
       "      <td>0.000397</td>\n",
       "    </tr>\n",
       "    <tr>\n",
       "      <th>52</th>\n",
       "      <td>0.645503</td>\n",
       "      <td>0.254167</td>\n",
       "      <td>0.000545</td>\n",
       "    </tr>\n",
       "    <tr>\n",
       "      <th>53</th>\n",
       "      <td>0.634286</td>\n",
       "      <td>0.231250</td>\n",
       "      <td>0.000693</td>\n",
       "    </tr>\n",
       "    <tr>\n",
       "      <th>54</th>\n",
       "      <td>0.637584</td>\n",
       "      <td>0.197917</td>\n",
       "      <td>0.000841</td>\n",
       "    </tr>\n",
       "    <tr>\n",
       "      <th>55</th>\n",
       "      <td>0.635036</td>\n",
       "      <td>0.181250</td>\n",
       "      <td>0.000990</td>\n",
       "    </tr>\n",
       "  </tbody>\n",
       "</table>\n",
       "</div>"
      ],
      "text/plain": [
       "    precision   recalls  thresholds\n",
       "49   0.621908  0.366667    0.000100\n",
       "50   0.630189  0.347917    0.000248\n",
       "51   0.633466  0.331250    0.000397\n",
       "52   0.645503  0.254167    0.000545\n",
       "53   0.634286  0.231250    0.000693\n",
       "54   0.637584  0.197917    0.000841\n",
       "55   0.635036  0.181250    0.000990"
      ]
     },
     "execution_count": 43,
     "metadata": {},
     "output_type": "execute_result"
    }
   ],
   "source": [
    "class_eval[class_eval['thresholds']>0].head(7)"
   ]
  },
  {
   "cell_type": "markdown",
   "metadata": {},
   "source": [
    "## Profit/Loss (P/L) evaluation\n",
    "---\n",
    "I am going to simulate entering a trade and realzing the profit and loss for all of the validation set. The buy signals will depend on the thresholds given. The threshold with the highest P/L after the validation set is the optimal one. \n",
    "\n",
    "The rules for entering trades, managing risk, and taking profit are as follows\n",
    "- Each threshold will be given $10000 thousand dollars to start and will at most risk 2%. \n",
    "- the reward to risk ratio will vary from 1 to 9.\n",
    "- As an example, lets say we have a reward to risk ratio of 2. When the first trade is entered with \\\\$10000, the risk is we are willing to take is \\\\$200. So the trade will close when the initial \\\\$10000 in equity drops to \\\\$9800, realizing a \\\\$200 loss. Once the \\\\$10000 reaches a value of \\\\$10400 then the position will be closed for a realized gain of \\\\$400\n",
    "- this will repeat until we are out of money or the the validation period is over.\n",
    "- only one trade will be entered at a time.So any buy signals will be skipped if the model already entered a trade."
   ]
  },
  {
   "cell_type": "code",
   "execution_count": 44,
   "metadata": {},
   "outputs": [],
   "source": [
    "## make a dictionary with the thresholds as keys and the binary put as values \n",
    "thresholds = 100\n",
    "pct_changes = np.linspace(-0.001, y_hat.max(), thresholds)\n",
    "\n",
    "thresh_dict = {}\n",
    "for threshold in pct_changes:\n",
    "    thresh_dict[threshold] = y_hat.apply(lambda x: 1 if x>threshold else 0).values\n",
    "    "
   ]
  },
  {
   "cell_type": "markdown",
   "metadata": {},
   "source": [
    "### P/L algorithim "
   ]
  },
  {
   "cell_type": "code",
   "execution_count": 45,
   "metadata": {},
   "outputs": [],
   "source": [
    "def pl(curr,total,prices,rr,prediction):\n",
    "    risk = 0.02\n",
    "    tp = risk*rr\n",
    "    stop = len(prices)\n",
    "    if curr == stop:\n",
    "        return total\n",
    "\n",
    "    price = prices[curr]\n",
    "    risk_amount = risk * total\n",
    "    shares = total // price\n",
    "    tp_price = price + price * tp\n",
    "    reward_amount = shares * tp_price - total\n",
    "    stop_price = price - price * risk\n",
    "\n",
    "\n",
    "    if prediction[curr] == 1:\n",
    "\n",
    "        for j, price_j in enumerate(prices[curr:]):\n",
    "\n",
    "            if price_j <= stop_price:\n",
    "                total = total - risk_amount\n",
    "                curr = curr + j\n",
    "                return pl(curr, total, prices,rr, prediction)\n",
    "\n",
    "            if price_j >= tp_price:\n",
    "                total = total + reward_amount\n",
    "                curr = curr + j\n",
    "                return pl(curr, total, prices,rr, prediction)\n",
    "            if curr + j == stop -1:\n",
    "                change = price_j - price\n",
    "                total = total + change*shares\n",
    "                curr = stop\n",
    "                return pl(curr, total,prices,rr, prediction)\n",
    "\n",
    "    else:\n",
    "        curr = curr + 1\n",
    "        return pl(curr,total,prices,rr,prediction)\n"
   ]
  },
  {
   "cell_type": "code",
   "execution_count": 46,
   "metadata": {},
   "outputs": [],
   "source": [
    "prices = evaluation['Close'].values\n",
    "\n",
    "rr_p_l = {}\n",
    "\n",
    "for i in range(1,10):\n",
    "    p_l = []\n",
    "    for threshold, prediction in thresh_dict.items():\n",
    "        total = 10000\n",
    "        total = pl(0,total,prices,i,prediction)\n",
    "        p_l.append(total)\n",
    "    rr_p_l[i] = p_l\n",
    "    "
   ]
  },
  {
   "cell_type": "code",
   "execution_count": 47,
   "metadata": {
    "scrolled": true
   },
   "outputs": [
    {
     "data": {
      "text/plain": [
       "<matplotlib.legend.Legend at 0x2817775ea60>"
      ]
     },
     "execution_count": 47,
     "metadata": {},
     "output_type": "execute_result"
    },
    {
     "data": {
      "image/png": "[encoded data removed]",
      "text/plain": [
       "<Figure size 720x360 with 1 Axes>"
      ]
     },
     "metadata": {
      "needs_background": "light"
     },
     "output_type": "display_data"
    }
   ],
   "source": [
    "plt.figure(figsize=(10,5))\n",
    "for i in range(1,10):\n",
    "    y = rr_p_l[i]\n",
    "    plt.plot(pct_changes,y, label=str(i)+' RR')\n",
    "plt.xlabel('Percent Change Threshold')   \n",
    "plt.ylabel('Profit/Loss') \n",
    "plt.title('P/L per Risk Reward vs Thresholds', fontsize = 13)\n",
    "plt.legend()\n"
   ]
  },
  {
   "cell_type": "code",
   "execution_count": 48,
   "metadata": {},
   "outputs": [
    {
     "name": "stdout",
     "output_type": "stream",
     "text": [
      "Max Profit: $17203.76\n",
      "Best threshold:0.17%\n",
      "Model return: 72.04%\n",
      "\n"
     ]
    }
   ],
   "source": [
    "print(f'Max Profit: ${max(rr_p_l[6]):0.2f}')\n",
    "best_rr_index = rr_p_l[6].index(max(rr_p_l[6]))\n",
    "print(f'Best threshold:{pct_changes[best_rr_index]*100 :0.2f}%')\n",
    "print(f'Model return: {(max(rr_p_l[6])/10000*100)-100:0.2f}%')\n",
    "print('')"
   ]
  },
  {
   "cell_type": "markdown",
   "metadata": {},
   "source": [
    "The figure above showsshows the different Profits/Losses at different thresholds with different reward to risk ratio. All of the P/L curves converge to $10000 dollars. With the threshold being so high, the model rarely enters trades leaving the P/L at 0. The best performing reward to risk ratio is 6 with a maximum P/L of $17201 and a threshold percentage change of 0.17%. \n",
    "\n",
    "So that is over an 72.04% gain and while the SPY etf returned 33.41%. Without considering short term capital gains tax the trading strategy with the model would accure than doubles the performance of the SPY."
   ]
  },
  {
   "cell_type": "code",
   "execution_count": 49,
   "metadata": {},
   "outputs": [
    {
     "name": "stdout",
     "output_type": "stream",
     "text": [
      "SPY gain: 33.42% \n",
      "SPY equity: $13341.61\n",
      "1298 days 00:00:00\n",
      "3.95Years\n"
     ]
    }
   ],
   "source": [
    "gain = evaluation['Close'][-1]/evaluation['Close'][0] -1\n",
    "print(f'SPY gain: {gain*100:0.2f}% ')\n",
    "print(f'SPY equity: ${10000*(1+gain):0.2f}')\n",
    "print(evaluation.index[-1] - evaluation.index[0])\n",
    "print(f'{1440/365:0.2f}Years')"
   ]
  },
  {
   "cell_type": "markdown",
   "metadata": {},
   "source": [
    "As stated above this model doubled the peromance of the SPY but that did not cover short term capital gains tax. For a retail investor calculating the net profit after taxes is straight forward unless you set up an LLC. Taxes for hedge funds are more complicated due to their complex and unique strucutres. I am going to be alter in P/L algorithim to calculate net profit after taxes for a retail trader at the highest tax bracket of 37%"
   ]
  },
  {
   "cell_type": "code",
   "execution_count": 50,
   "metadata": {},
   "outputs": [],
   "source": [
    "def pl_tax(curr,total,prices,rr,start,prediction):\n",
    "    risk = 0.02\n",
    "    tp = risk*rr\n",
    "    stop = len(prices)\n",
    "    if curr == stop:\n",
    "        gain = total - start\n",
    "        total = total - gain * 0.37\n",
    "        return total\n",
    "\n",
    "    price = prices[curr]\n",
    "    risk_amount = risk * total\n",
    "    shares = total // price\n",
    "    tp_price = price + price * tp\n",
    "    reward_amount = shares * tp_price - total\n",
    "    stop_price = price - price * risk\n",
    "\n",
    "    if curr%253==0:\n",
    "        gain = total - start\n",
    "        total = total - gain*0.37\n",
    "        start = total\n",
    "\n",
    "    if prediction[curr] == 1:\n",
    "\n",
    "        for j, price_j in enumerate(prices[curr:]):\n",
    "\n",
    "            if price_j <= stop_price:\n",
    "                total = total - risk_amount\n",
    "                curr = curr + j\n",
    "                return pl_tax(curr, total, prices,rr,start,prediction)\n",
    "\n",
    "            if price_j >= tp_price:\n",
    "                total = total + reward_amount\n",
    "                curr = curr + j\n",
    "                return pl_tax(curr, total, prices,rr,start,prediction)\n",
    "            if curr + j == stop -1:\n",
    "                change = price_j - price\n",
    "                total = total + change*shares\n",
    "                curr = stop\n",
    "                return pl_tax(curr, total,prices,rr,start,prediction)\n",
    "\n",
    "    else:\n",
    "        curr = curr + 1\n",
    "        return pl_tax(curr,total,prices,rr,start,prediction)\n",
    "\n"
   ]
  },
  {
   "cell_type": "code",
   "execution_count": 51,
   "metadata": {},
   "outputs": [],
   "source": [
    "prices = evaluation['Close'].values\n",
    "\n",
    "rr_pl = {}\n",
    "\n",
    "for i in range(1,10):\n",
    "    p_l = []\n",
    "    for threshold, prediction in thresh_dict.items():\n",
    "        total = 10000\n",
    "        total = pl_tax(0,total,prices,i,total,prediction)\n",
    "        p_l.append(total)\n",
    "    rr_p_l[i] = p_l\n",
    "    "
   ]
  },
  {
   "cell_type": "code",
   "execution_count": 52,
   "metadata": {},
   "outputs": [
    {
     "data": {
      "text/plain": [
       "<matplotlib.legend.Legend at 0x281777c5370>"
      ]
     },
     "execution_count": 52,
     "metadata": {},
     "output_type": "execute_result"
    },
    {
     "data": {
      "image/png": "[encoded data removed]",
      "text/plain": [
       "<Figure size 864x432 with 1 Axes>"
      ]
     },
     "metadata": {
      "needs_background": "light"
     },
     "output_type": "display_data"
    }
   ],
   "source": [
    "plt.figure(figsize=(12,6))\n",
    "for i in range(1,10):\n",
    "    y = rr_p_l[i]\n",
    "    plt.plot(pct_changes,y, label=str(i)+' RR')\n",
    "plt.xlabel('Profit/Loss')   \n",
    "plt.ylabel('Percent Change Threshold') \n",
    "plt.title('P/L per Risk Reward vs Thresholds', fontsize = 13)\n",
    "plt.legend()"
   ]
  },
  {
   "cell_type": "code",
   "execution_count": 53,
   "metadata": {
    "scrolled": true
   },
   "outputs": [
    {
     "name": "stdout",
     "output_type": "stream",
     "text": [
      "Max Profit: $14400.62\n",
      "Best threshold:0.17%\n",
      "Model return: 44.01%\n",
      "\n",
      "SPY gain: 33.42% \n",
      "SPY Equity: $13341.61\n",
      "1298 days 00:00:00\n",
      "3.95 Years\n"
     ]
    }
   ],
   "source": [
    "print(f'Max Profit: ${max(rr_p_l[6]):0.2f}')\n",
    "best_rr_index = rr_p_l[6].index(max(rr_p_l[6]))\n",
    "print(f'Best threshold:{pct_changes[best_rr_index]*100 :0.2f}%')\n",
    "print(f'Model return: {(max(rr_p_l[6])/10000*100)-100:0.2f}%')\n",
    "print('')\n",
    "\n",
    "gain = evaluation['Close'][-1]/evaluation['Close'][0] -1\n",
    "print(f'SPY gain: {gain*100:0.2f}% ')\n",
    "print(f'SPY Equity: ${10000*(1+gain):0.2f}')\n",
    "print(evaluation.index[-1] - evaluation.index[0])\n",
    "print(f'{1440/365:0.2f} Years')"
   ]
  },
  {
   "cell_type": "markdown",
   "metadata": {},
   "source": [
    "# Test (Holdout Validation)\n",
    "---\n",
    "The validation results look promising lets now implement the model on the holdout set"
   ]
  },
  {
   "cell_type": "code",
   "execution_count": 54,
   "metadata": {},
   "outputs": [],
   "source": [
    "best_rr_index = rr_p_l[6].index(max(rr_p_l[6]))\n",
    "threshold = pct_changes[best_rr_index]"
   ]
  },
  {
   "cell_type": "code",
   "execution_count": 55,
   "metadata": {},
   "outputs": [],
   "source": [
    "final_df = pd.concat([df, holdout])"
   ]
  },
  {
   "cell_type": "code",
   "execution_count": 56,
   "metadata": {},
   "outputs": [],
   "source": [
    "def split_scale_final_df(df,columns, label):\n",
    "    cutoff = int(df.shape[0]*.9)\n",
    "\n",
    "    x_scaler = MinMaxScaler()\n",
    "    y_scaler = MinMaxScaler()\n",
    "    y = np.expand_dims(df[label], -1)\n",
    "\n",
    "    x_scaled= x_scaler.fit_transform(df[columns])\n",
    "    y_scaled = y_scaler.fit_transform(y)\n",
    "\n",
    "\n",
    "\n",
    "    X_train_scaled = x_scaled[:cutoff]\n",
    "    y_train_scaled = y_scaled[:cutoff]\n",
    "\n",
    "    X_test_scaled = x_scaled[cutoff:]\n",
    "    y_test_scaled = y_scaled[cutoff:] \n",
    "    \n",
    "    return  X_train_scaled, y_train_scaled, X_test_scaled, y_test_scaled, y_scaler\n"
   ]
  },
  {
   "cell_type": "code",
   "execution_count": 57,
   "metadata": {},
   "outputs": [],
   "source": [
    "model = KNeighborsRegressor(n_neighbors=9)\n",
    "features = ['50MA_2', '150MA_1', '10/50STD_3', '50/150MA_2', 'Futures_Close_1', 'Vix_Close/20MA_3', '10_50STD_3']\n",
    "label = 'Target_pct_change'\n",
    "\n",
    "x_train, y_train, x_test, y_test, y_scaler = split_scale_final_df(final_df,features, label)\n",
    "\n",
    "model.fit(x_train, y_train) \n",
    "y_hat = model.predict(x_test)\n",
    "y_hat = y_scaler.inverse_transform(y_hat.reshape(-1,1))\n",
    "y_test = y_scaler.inverse_transform(y_test)\n",
    "y_test = pd.Series(y_test[:,0])\n",
    "y_hat = pd.Series(y_hat[:,0])"
   ]
  },
  {
   "cell_type": "code",
   "execution_count": 58,
   "metadata": {},
   "outputs": [
    {
     "name": "stdout",
     "output_type": "stream",
     "text": [
      "Model Precsion:56.97%\n",
      "Benchmark Precision: 57.72%\n"
     ]
    }
   ],
   "source": [
    "y_hat_direction = y_hat.apply(lambda x:1 if x>0 else 0)\n",
    "precision = precision_score(holdout['Target'],y_hat_direction)\n",
    "\n",
    "y_test_direction = y_test.apply(lambda x:1 if x>0 else 0)\n",
    "benchmark = y_test_direction.value_counts(normalize=True)[1]\n",
    "\n",
    "print(f'Model Precsion:{precision*100:0.2f}%')\n",
    "print(f'Benchmark Precision: {benchmark*100:0.2f}%')\n"
   ]
  },
  {
   "cell_type": "markdown",
   "metadata": {},
   "source": [
    "The model does not beat the bench mark precision. To recap the benchmark precision would be the precsion if the model was to guess a postive percent change every time. The model overfit the training data and did not generalize well over to new data."
   ]
  },
  {
   "cell_type": "code",
   "execution_count": 59,
   "metadata": {},
   "outputs": [],
   "source": [
    "def hold_eval(df, y_hat):\n",
    "    cutoff = int(df.shape[0]*.9)\n",
    "    evaluation = df.copy()\n",
    "    \n",
    "    evaluation = df[['Date','Close','Target_Close','Target_pct_change','Target']].iloc[cutoff:]\n",
    "    evaluation.set_index('Date', inplace = True)\n",
    "    evaluation['Predicted_pct_change'] = y_hat.values\n",
    "    evaluation['Predicted_Close'] = evaluation['Close'] * evaluation['Predicted_pct_change'] + evaluation['Close']\n",
    "    evaluation['Predcited_direction'] = evaluation['Predicted_pct_change'].apply(lambda x: 1 if x>0 else 0)\n",
    "    \n",
    "    return evaluation\n",
    "final_eval = hold_eval(final_df, y_hat)"
   ]
  },
  {
   "cell_type": "code",
   "execution_count": 60,
   "metadata": {},
   "outputs": [
    {
     "name": "stdout",
     "output_type": "stream",
     "text": [
      "\n",
      "Profit Before Taxes: $13489.78\n",
      "Profit post Max Taxes: $12079.90\n",
      "SPY buy and hold equity: $13871.05\n"
     ]
    }
   ],
   "source": [
    "prices = final_eval['Close']\n",
    "total = 10000\n",
    "prediction = y_hat_direction\n",
    "equity_no_tax = pl(0,total,prices,6,prediction)\n",
    "equity_max_tax = pl_tax(0,total,prices,6,total,prediction)\n",
    "spy_roi = final_eval['Close'][-1]/final_eval['Close'][0]\n",
    "\n",
    "print()\n",
    "print(f'Profit Before Taxes: ${equity_no_tax:0.2f}')\n",
    "print(f'Profit post Max Taxes: ${equity_max_tax:0.2f}')\n",
    "print(f'SPY buy and hold equity: ${spy_roi*10000:0.2f}')"
   ]
  },
  {
   "cell_type": "markdown",
   "metadata": {},
   "source": [
    "On the hold out set the returns for the model underperformed the buy and hold strategy. Again,  a lower precison that the the validation set will lead to lower returns"
   ]
  },
  {
   "cell_type": "markdown",
   "metadata": {},
   "source": [
    "## Beta\n",
    "---\n",
    "- Beta is a correlatoin coeffiecient that relates a stocks movement and volatility to the S&P 500 index. If a stocks beta is 1 then it is highly correlated with the S&P 500.-1 indicates an inverse correlation. Typically stocks with betas beteeen 0 and 1 are thought to be less volatile than the S&P 500 and stocks with betas higher than 1 are more volatile than the S&P 500.  \n",
    "- In this next section, I am going to plot the precision as a funtion beta to measure tha performance across stocks of different volatilities to determine if there is a beta at which the model performs best.\n",
    "- I'll also be using the P/L function built earlier to plot the P/L as a function of beta \n",
    "- I am going to use the betas for all elgible stocks on the S&P 500 as of 2/28/21  \n",
    "https://www.investopedia.com/terms/b/beta.asp"
   ]
  },
  {
   "cell_type": "code",
   "execution_count": 61,
   "metadata": {},
   "outputs": [],
   "source": [
    "import yfinance as yf\n",
    "tables = pd.read_html('https://en.wikipedia.org/wiki/List_of_S%26P_500_companies')\n",
    "sp500_tickers = tables[0]['Symbol']\n",
    "stocks = {}\n",
    "for ticker in sp500_tickers:\n",
    "    try:\n",
    "        stock = yf.Ticker(ticker)\n",
    "        mcap = stock.info['marketCap']\n",
    "        beta = stock.info['beta']\n",
    "    except Exception:\n",
    "        pass\n",
    "    stocks[ticker] = [beta, mcap]"
   ]
  },
  {
   "cell_type": "code",
   "execution_count": 62,
   "metadata": {
    "scrolled": false
   },
   "outputs": [],
   "source": [
    "stocks_df = pd.DataFrame.from_dict(stocks, orient='index', columns=['Beta','Marketcap'])\n",
    "stocks_df['Marketcap'] = stocks_df['Marketcap']/1000000000"
   ]
  },
  {
   "cell_type": "code",
   "execution_count": 63,
   "metadata": {},
   "outputs": [],
   "source": [
    "stocks_df = stocks_df.reset_index()\n",
    "stocks_df = stocks_df.rename(columns={'index':'Ticker'})"
   ]
  },
  {
   "cell_type": "code",
   "execution_count": 64,
   "metadata": {},
   "outputs": [],
   "source": [
    "def final_clean(ticker, vix, futures,start_date, m,n):\n",
    "\n",
    "    stock = yf.Ticker(ticker).history(period='1d', start=start_date)\n",
    "    stock = stock.drop(columns=['Dividends', 'Stock Splits'])\n",
    "    \n",
    "    vix =  yf.Ticker(vix).history(period='1d', start=start_date)\n",
    "    vix = vix.drop(columns=['Volume', 'Low', 'High', 'Open','Dividends', 'Stock Splits'])\n",
    "    vix['20MA'] = vix['Close'].rolling(window=20).mean()\n",
    "    vix['Close/20MA'] = vix['Close'] / vix['20MA']\n",
    "    vix.columns = ['Vix_' + i for i in vix.columns]\n",
    "\n",
    "    futures = yf.Ticker(futures).history(period='1d', start=start_date)\n",
    "    futures = futures.dropna()\n",
    "    future = futures.drop(columns=['Low', 'High', 'Open', 'Volume','Dividends', 'Stock Splits'])\n",
    "    futures['20MA'] = futures['Close'].rolling(window=20).mean()\n",
    "    futures['Close/20MA'] = futures['Close'] / futures['20MA']\n",
    "    futures.columns = ['Futures_' + i for i in futures.columns]\n",
    "    \n",
    "    df = pd.concat([futures, vix, stock], axis=1, join='inner')\n",
    "    df = df.dropna()\n",
    "    \n",
    "    df['pct_change'] = df['Close'].pct_change()\n",
    "    df['50_Volume'] = df['Volume'].rolling(window=30).mean()\n",
    "    df['10MA'] = df['Close'].rolling(window = 10).mean()\n",
    "    df['50MA'] = df['Close'].rolling(window = 50).mean()\n",
    "    df['150MA'] = df['Close'].rolling(window = 150).mean()\n",
    "    df['50STD'] = df['Close'].rolling(window = 50).std()*2\n",
    "    df['10STD'] = df['Close'].rolling(window = 10).std()*2\n",
    "\n",
    "    df = df.dropna(axis=0)\n",
    "    \n",
    "    df = build_rsi(df,14)\n",
    "    \n",
    "    df['Close/10MA'] = df['Close']/df['10MA']\n",
    "    df['10/50MA'] = df['10MA']/df['50MA']\n",
    "    df['50/150MA'] = df['50MA']/df['150MA']\n",
    "    df['10/50STD'] = df['10STD']/ df['50STD']\n",
    "    df['Vol/30Vol'] = df['Volume']/df['50_Volume']\n",
    "    \n",
    "    df['Close-10MA'] = df['Close']-df['10MA']\n",
    "    df['10-50MA'] = df['10MA']-df['50MA']\n",
    "    df['50-150MA'] = df['50MA']-df['150MA']\n",
    "    df['10-50STD'] = df['10STD']-df['50STD']\n",
    "    \n",
    "    df['range_hl'] = df['High']- df['Low']\n",
    "    df['range_oc'] = df['Close'] - df['Open']\n",
    "    \n",
    "    df['Close_10MA'] = df['Close-10MA'].apply(lambda x: 1 if x>0 else 0 )\n",
    "    df['10_50MA'] = df['10-50MA'].apply(lambda x: 1 if x>0 else 0 )\n",
    "    df['50_150MA'] = df['50-150MA'].apply(lambda x: 1 if x>0 else 0 )\n",
    "    df['10_50STD'] = df['10-50STD'].apply(lambda x: 1 if x>0 else 0 )\n",
    "    \n",
    "    df = df.reset_index()\n",
    "    df['Daily_pct_change'] = df['Close'].pct_change()\n",
    "    df['Target_Close'] = df['Close'].shift(-n)\n",
    "    df['Target_pct_change'] = df['Close'].pct_change(n).shift(-n)\n",
    "    df['Target'] =  df['Target_pct_change'].apply(lambda x: 1 if x>=0 else (0 if x<0 else np.nan)) \n",
    "    \n",
    "    cols = df.columns.drop(['Date','Target_Close','Target_pct_change','Target'])\n",
    "    for i in range(1,m+1):\n",
    "        for col in cols:\n",
    "            df[col+'_'+str(i)] = df[col].shift(i)\n",
    "    \n",
    "    return df\n"
   ]
  },
  {
   "cell_type": "code",
   "execution_count": 65,
   "metadata": {},
   "outputs": [],
   "source": [
    "ticker_futures = 'ES=F'\n",
    "ticker_vix = '^VIX'\n",
    "start_date = '2000-01-01'"
   ]
  },
  {
   "cell_type": "code",
   "execution_count": 66,
   "metadata": {
    "scrolled": true
   },
   "outputs": [
    {
     "name": "stdout",
     "output_type": "stream",
     "text": [
      "- BRK.B: No data found, symbol may be delisted\n",
      "- BF.B: No data found for this date range, symbol may be delisted\n"
     ]
    }
   ],
   "source": [
    "precisions = []\n",
    "model = KNeighborsRegressor(n_neighbors=9)\n",
    "features = ['50MA_2', '150MA_1', '10/50STD_3', '50/150MA_2', 'Futures_Close_1', 'Vix_Close/20MA_3', '10_50STD_3']\n",
    "label = 'Target_pct_change'\n",
    "rm_tickers = []\n",
    "\n",
    "for ticker in stocks_df['Ticker']:\n",
    "    try:\n",
    "        ticker_df = final_clean(ticker, ticker_vix, ticker_futures,start_date, m,n)\n",
    "    except:\n",
    "        rm_tickers.append(ticker)\n",
    "        continue\n",
    "    ticker_df = ticker_df.dropna()\n",
    "    y_hat, y_test = split_scale_train_yhat(ticker_df, features, label, model)\n",
    "    precision = binary_class_precision(y_test, y_hat)\n",
    "    precisions.append(precision)\n",
    "    "
   ]
  },
  {
   "cell_type": "code",
   "execution_count": 67,
   "metadata": {},
   "outputs": [],
   "source": [
    "stocks_df = stocks_df[~stocks_df.Ticker.isin(rm_tickers)]"
   ]
  },
  {
   "cell_type": "code",
   "execution_count": 71,
   "metadata": {
    "scrolled": true
   },
   "outputs": [
    {
     "data": {
      "image/png": "[encoded data removed]",
      "text/plain": [
       "<Figure size 432x288 with 1 Axes>"
      ]
     },
     "metadata": {
      "needs_background": "light"
     },
     "output_type": "display_data"
    }
   ],
   "source": [
    "plt.scatter(stocks_df['Beta'], precisions, alpha = 0.6)\n",
    "plt.title('Beta vs Precision')\n",
    "plt.ylabel('Precision')\n",
    "plt.xlabel('Betas')\n",
    "plt.xlim(stocks_df['Beta'].min(), 3)\n",
    "plt.show()"
   ]
  },
  {
   "cell_type": "code",
   "execution_count": 72,
   "metadata": {
    "scrolled": false
   },
   "outputs": [
    {
     "name": "stdout",
     "output_type": "stream",
     "text": [
      "Pearsons R: -0.018\n",
      "P-value R: 0.685\n"
     ]
    }
   ],
   "source": [
    "import scipy.stats\n",
    "coef, pvalue = scipy.stats.pearsonr(precisions[:-8], stocks_df['Beta'].dropna())\n",
    "print(f'Pearsons R: {coef:0.3f}')\n",
    "print(f'P-value R: {pvalue:0.3f}')"
   ]
  },
  {
   "cell_type": "markdown",
   "metadata": {},
   "source": [
    "From the graph above it is visible that there is no strong correlation between beta and precsion of the model. This is confirmed by the Pearson R correlation coefficient equaling almost 0. The p-value confirms the null hypothesis of having no correlation is accepted"
   ]
  },
  {
   "cell_type": "code",
   "execution_count": 73,
   "metadata": {},
   "outputs": [],
   "source": [
    "total = 10000\n",
    "p_ls = []\n",
    "rm_tickers = []\n",
    "\n",
    "for ticker in stocks_df['Ticker']:\n",
    "    try:\n",
    "        ticker_df = final_clean(ticker, ticker_vix, ticker_futures,start_date, m,n)\n",
    "    except:\n",
    "        rm_tickers.append(ticker)\n",
    "        continue\n",
    "    ticker_df = ticker_df.dropna()\n",
    "    y_hat, y_test = split_scale_train_yhat(ticker_df, features, label, model)\n",
    "    test = evalu(ticker_df, y_hat)\n",
    "    prediction = test['Predcited_direction']\n",
    "    prices = test['Close']\n",
    "    equity = pl_tax(0,total,prices,6,total,prediction)\n",
    "    p_ls.append(equity)\n",
    "   "
   ]
  },
  {
   "cell_type": "code",
   "execution_count": 74,
   "metadata": {},
   "outputs": [],
   "source": [
    "stocks_df = stocks_df[~stocks_df.Ticker.isin(rm_tickers)]"
   ]
  },
  {
   "cell_type": "code",
   "execution_count": 75,
   "metadata": {},
   "outputs": [
    {
     "data": {
      "image/png": "[encoded data removed]",
      "text/plain": [
       "<Figure size 432x288 with 1 Axes>"
      ]
     },
     "metadata": {
      "needs_background": "light"
     },
     "output_type": "display_data"
    }
   ],
   "source": [
    "plt.scatter(stocks_df['Beta'], p_ls, alpha = 0.6)\n",
    "plt.title('Beta vs P/L')\n",
    "plt.ylabel('P/L ($)')\n",
    "plt.xlabel('Betas')\n",
    "plt.xlim(stocks_df['Beta'].min(), 3)\n",
    "plt.show()"
   ]
  },
  {
   "cell_type": "code",
   "execution_count": 76,
   "metadata": {
    "scrolled": true
   },
   "outputs": [
    {
     "name": "stdout",
     "output_type": "stream",
     "text": [
      "Pearsons R: 0.059\n",
      "P-value R: 0.188\n"
     ]
    }
   ],
   "source": [
    "coef, pvalue = scipy.stats.pearsonr(p_ls[:-8], stocks_df['Beta'].dropna())\n",
    "print(f'Pearsons R: {coef:0.3f}')\n",
    "print(f'P-value R: {pvalue:0.3f}')"
   ]
  },
  {
   "cell_type": "markdown",
   "metadata": {},
   "source": [
    "The graph above shows a stronger correlation between P/L and beta thatn precision and beta but the p-value is not low enough to reject the null hypothesis"
   ]
  },
  {
   "cell_type": "markdown",
   "metadata": {},
   "source": [
    "# Conclusion\n",
    "\n",
    "Stock market prices usually go up over time. However short term stock prices are not as predictable. Becasue of it's randomness I wanted to simmplify my approach. Many machine learning models that try to predict the exact price and end up just lagging behind the actaul price and providing no valauble insight. In this notebook I used the KNearest Neighbr Regressot algorithim to predict the the direction (up or down). The model performed well on the training and validation data giving us a precsion that was 9% higher than the bench mark precision. The model peformed worse on the the test data with a precsion that was lower thant the bench marks\n",
    "\n",
    "It does not make statistical or finincial sense to deploy the final model given how poorly it performed on the test data. However, the test data included the stock market crash of March 2021. Given that market crashes do not happen very often it is impractical to think any machine learning algorithim has enough data to do well in those market conditions. \n",
    "\n",
    "\n",
    "### Future work\n",
    "\n",
    "- I can develop a filter or bias where the model is only allowed to trade in certain market conditions. For example, only training the model on data that is above the 150 moving average. If there is a rapid drop in price below the 150 moving average the bot would not enter trades. \n",
    "- There are also a plethora of other indicators and metrics that can be combined.\n",
    "- This model also only used data from the current date and past 3 trading days. Tuning the number of past trading days can yield different results\n"
   ]
  },
  {
   "cell_type": "markdown",
   "metadata": {},
   "source": [
    "## Resources"
   ]
  },
  {
   "cell_type": "markdown",
   "metadata": {},
   "source": [
    "- https://www.investopedia.com/terms/b/beta.asp\n",
    "- https://www.investopedia.com/terms/v/vix.asp\n",
    "- https://www.investopedia.com/ask/answers/042315/how-do-sp-500-futures-work.asp\n",
    "- https://towardsdatascience.com/machine-learning-techniques-applied-to-stock-price-prediction-6c1994da8001 \n",
    "- https://github.com/NGYB/Stocks/tree/master/StockPricePrediction"
   ]
  },
  {
   "cell_type": "code",
   "execution_count": null,
   "metadata": {},
   "outputs": [],
   "source": []
  }
 ],
 "metadata": {
  "kernelspec": {
   "display_name": "Python 3",
   "language": "python",
   "name": "python3"
  },
  "language_info": {
   "codemirror_mode": {
    "name": "ipython",
    "version": 3
   },
   "file_extension": ".py",
   "mimetype": "text/x-python",
   "name": "python",
   "nbconvert_exporter": "python",
   "pygments_lexer": "ipython3",
   "version": "3.8.5"
  }
 },
 "nbformat": 4,
 "nbformat_minor": 4
}
